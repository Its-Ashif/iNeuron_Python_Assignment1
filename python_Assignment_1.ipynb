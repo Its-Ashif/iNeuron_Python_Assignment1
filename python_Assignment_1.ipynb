{
  "nbformat": 4,
  "nbformat_minor": 0,
  "metadata": {
    "colab": {
      "provenance": []
    },
    "kernelspec": {
      "name": "python3",
      "display_name": "Python 3"
    },
    "language_info": {
      "name": "python"
    }
  },
  "cells": [
    {
      "cell_type": "code",
      "source": [
        "\"\"\"\n",
        "1. In the below elements which of them are values or an expression? eg:- values can be integer or string and expressions will be mathematical operators.\n",
        "*               - Expression\n",
        "&#39;hello&#39; - Value\n",
        "-87.8           - Value\n",
        "\\               - Expression\n",
        "/               - Expression\n",
        "+               - Expression\n",
        "6               - Value\n",
        "\"\"\""
      ],
      "metadata": {
        "id": "NAhjn5K2Eoaj"
      },
      "execution_count": null,
      "outputs": []
    },
    {
      "cell_type": "code",
      "source": [
        "\"\"\"\n",
        "2. What is the difference between string and variable?\n",
        "\n",
        "String is a data type that we use to store a sequence of characters.\n",
        "\n",
        "Variable is a memory location which we use to store some values.\n",
        "\n",
        "String can be stored inside a Variable.\n",
        "\"\"\""
      ],
      "metadata": {
        "id": "7AT3N90kFJ27"
      },
      "execution_count": null,
      "outputs": []
    },
    {
      "cell_type": "code",
      "source": [
        "\"\"\"\n",
        "3. Describe three different data types.\n",
        "\n",
        "i.  Integer - Integer is a data type where we store whole numbers. Ex. -> int a = 10 or a = 10\n",
        "\n",
        "ii. String - String is a data type where we store sequence of characters. Ex. -> String s = 'Hello' or s = 'Hello'\n",
        "\n",
        "iii. Float - Float is a data type where we store decimal numbers. Ex -> Float f = 2.3 or f=2.3\n",
        "\n",
        "\"\"\""
      ],
      "metadata": {
        "id": "9UaWs0nEGnrz"
      },
      "execution_count": null,
      "outputs": []
    },
    {
      "cell_type": "code",
      "source": [
        "a = 10\n",
        "s = 'Hello'\n",
        "f = 2.3\n",
        "print(f'Integer - {a} | String - {s} | Float - {f}')"
      ],
      "metadata": {
        "colab": {
          "base_uri": "https://localhost:8080/"
        },
        "id": "wcGUoZKBH9pl",
        "outputId": "a7b8d361-def4-4df7-bd3b-aa1921cff254"
      },
      "execution_count": null,
      "outputs": [
        {
          "output_type": "stream",
          "name": "stdout",
          "text": [
            "Integer - 10 | String - Hello | Float - 2.3\n"
          ]
        }
      ]
    },
    {
      "cell_type": "code",
      "source": [
        "\"\"\"\n",
        "4. What is an expression made up of? What do all expressions do?\n",
        "\n",
        "Expression is made up of values,variables and operators.\n",
        "Ex. 2 + 4\n",
        "\n",
        "All expressions are used to perform calculations or operations.\n",
        "\n",
        "\"\"\""
      ],
      "metadata": {
        "id": "r9IC7w-dHvLm"
      },
      "execution_count": null,
      "outputs": []
    },
    {
      "cell_type": "code",
      "source": [
        "\"\"\"\n",
        "5. This assignment statements, like spam = 10. What is the difference between an expression and a statement?\n",
        "\n",
        "An expression is made up of values,variables and operators and it's primary goal is to perform calculation and produce a value.\n",
        "\n",
        "On the other hand, a statement is a complete line of code that performs an action or a task.\n",
        "\n",
        "Here, spam = 10 is a statement as it is assigning value 10 to spam variable therefore performing a task.\n",
        "\"\"\""
      ],
      "metadata": {
        "id": "3HnDB_HoJatg"
      },
      "execution_count": null,
      "outputs": []
    },
    {
      "cell_type": "code",
      "source": [
        "\"\"\"\n",
        "6. After running the following code, what does the variable bacon contain?\n",
        "bacon = 22\n",
        "bacon + 1\n",
        "\n",
        "as we add 1 to the variable bacon so 22 + 1 , the value of bacon will be 23.\n",
        "\"\"\""
      ],
      "metadata": {
        "id": "YDjvtCC73YRq"
      },
      "execution_count": null,
      "outputs": []
    },
    {
      "cell_type": "code",
      "source": [
        "\"\"\"\n",
        "7. What should the values of the following two terms be?\n",
        "\n",
        "'spam' + 'spamspam'\n",
        "\n",
        "Here the first and the second string adds up and togather it will print 'spamspamspam'. Ex. 'hello'+'world' -> 'helloworld'\n",
        "\n",
        "'spam' * 3\n",
        "\n",
        "Here the string is printed 3 times so it will print 'spamspamspam'. Ex. 'hello' * 2 -> 'hellohello'\n",
        "\n",
        "\"\"\""
      ],
      "metadata": {
        "id": "OIGqCvBlLV10"
      },
      "execution_count": null,
      "outputs": []
    },
    {
      "cell_type": "code",
      "source": [
        "print('spam' + 'spamspam')\n",
        "print('spam' * 3)"
      ],
      "metadata": {
        "colab": {
          "base_uri": "https://localhost:8080/"
        },
        "id": "WRaiyL3AMJTe",
        "outputId": "f3f4ae5f-e276-47d6-94eb-6dcb841a2129"
      },
      "execution_count": null,
      "outputs": [
        {
          "output_type": "stream",
          "name": "stdout",
          "text": [
            "spamspamspam\n",
            "spamspamspam\n"
          ]
        }
      ]
    },
    {
      "cell_type": "code",
      "source": [
        "\"\"\"\n",
        "8. Why is eggs a valid variable name while 100 is invalid?\n",
        "\n",
        "A variable name can't start with a number.\n",
        "so 100 is not a valid variable name.\n",
        "e100 or a100 can be used as a valid variable name.\n",
        "\n",
        "\"\"\""
      ],
      "metadata": {
        "id": "IF4UC294MR6m"
      },
      "execution_count": null,
      "outputs": []
    },
    {
      "cell_type": "code",
      "source": [
        "\"\"\"\n",
        "9. What three functions can be used to get the integer, floating-point number, or string\n",
        "version of a value?\n",
        "\n",
        "int() - this function is used to convert a value to an integer.\n",
        "float() - this function is used to convert a value to a floating-point number.\n",
        "str() - this function is used to convert a value to a string.\n",
        "\n",
        "\"\"\""
      ],
      "metadata": {
        "id": "ZZ5kgIlBNLC7"
      },
      "execution_count": null,
      "outputs": []
    },
    {
      "cell_type": "code",
      "source": [
        "print(int(\"34\"))\n",
        "print(float(\"2.6\"))\n",
        "print(str(123))"
      ],
      "metadata": {
        "colab": {
          "base_uri": "https://localhost:8080/"
        },
        "id": "YpCHyocuN1Pn",
        "outputId": "cc2b8da7-750a-4969-bab1-f5bac05ce5b1"
      },
      "execution_count": null,
      "outputs": [
        {
          "output_type": "stream",
          "name": "stdout",
          "text": [
            "34\n",
            "2.6\n",
            "123\n"
          ]
        }
      ]
    },
    {
      "cell_type": "code",
      "source": [
        "\"\"\"\n",
        "10. Why does this expression cause an error? How can you fix it?\n",
        "'I have eaten' + 99 + 'burritos.'\n",
        "\n",
        "We can't add integers and strings together. We first have to convert integer to string and then add to other stirngs.\n",
        "\n",
        "'I have eaten' + str(99) + 'burritos.'\n",
        "\n",
        "\"\"\""
      ],
      "metadata": {
        "id": "cb_Zos8JODzf"
      },
      "execution_count": null,
      "outputs": []
    },
    {
      "cell_type": "code",
      "source": [
        "print('I have eaten ' + str(99) + ' burritos.')"
      ],
      "metadata": {
        "colab": {
          "base_uri": "https://localhost:8080/"
        },
        "id": "LsxXkYb-O1-1",
        "outputId": "4014a2ac-d72a-4d72-9123-58c7afa99733"
      },
      "execution_count": null,
      "outputs": [
        {
          "output_type": "stream",
          "name": "stdout",
          "text": [
            "I have eaten 99 burritos.\n"
          ]
        }
      ]
    }
  ]
}