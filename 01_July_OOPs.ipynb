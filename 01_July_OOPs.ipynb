{
  "nbformat": 4,
  "nbformat_minor": 0,
  "metadata": {
    "colab": {
      "provenance": []
    },
    "kernelspec": {
      "name": "python3",
      "display_name": "Python 3"
    },
    "language_info": {
      "name": "python"
    }
  },
  "cells": [
    {
      "cell_type": "markdown",
      "source": [
        "# **01st July OOPs Assignment**"
      ],
      "metadata": {
        "id": "wbHc2NkvO5b2"
      }
    },
    {
      "cell_type": "markdown",
      "source": [
        "**1. What is the primary goal of Object-Oriented Programming (OOP)?**\n",
        "\n",
        "The primary goal of Object-Oriented Programming (OOP) is to design and organize code in a way that models real-world entities and their interactions. OOP is based on the concept of \"objects,\" which are instances of classes.\n",
        "\n",
        "**Encapsulation:** This involves bundling data and methods that operate on the data into a single unit, known as a class. It helps in hiding the internal details of the object and exposing only what is necessary.\n",
        "\n",
        "**Inheritance:** This allows a new class to inherit attributes and methods from an existing class. It promotes code reusability and establishes a hierarchy of classes.\n",
        "\n",
        "**Polymorphism:** This enables objects of different classes to be treated as objects of a common base class. Polymorphism allows a single interface to represent different types of objects, making the code more flexible and adaptable.\n",
        "\n",
        "**Abstraction:** This involves simplifying complex systems by modeling classes based on the essential characteristics they share. Abstraction helps in managing the complexity of large software systems."
      ],
      "metadata": {
        "id": "1QDFGnxRPASh"
      }
    },
    {
      "cell_type": "markdown",
      "source": [
        "**2. What is an object in Python?**\n",
        "\n",
        "In Python, an object is a fundamental concept that represents a specific instance of a class. Everything in Python is an object, including simple data types like integers and strings, as well as more complex types like lists and custom-defined classes."
      ],
      "metadata": {
        "id": "KG6Y8_x-niXF"
      }
    },
    {
      "cell_type": "markdown",
      "source": [
        "**3. What is a class in Python?**\n",
        "\n",
        "In Python, a class is a blueprint or a template for creating objects. It defines a collection of attributes (variables) and methods (functions) that are common to all objects created from that class."
      ],
      "metadata": {
        "id": "jZXSRC4onz5F"
      }
    },
    {
      "cell_type": "markdown",
      "source": [
        "**4. What are attributes and methods in a class?**\n",
        "\n",
        "**Attribute:** Attributes are variables that store data. They represent the state of an object and define the characteristics or properties of the object.\n",
        "\n",
        "**Methods:** Methods are functions defined within a class that define the behavior of the objects created from that class. They operate on the attributes of the class."
      ],
      "metadata": {
        "id": "CZOSpMGdn9fi"
      }
    },
    {
      "cell_type": "code",
      "source": [
        "class Rectangle:\n",
        "    def __init__(self, length, width):\n",
        "        self.length = length\n",
        "        self.width = width\n",
        "\n",
        "    def calculate_area(self):\n",
        "        return self.length * self.width\n",
        "\n",
        "# Creating an object (instance) of the Rectangle class\n",
        "my_rectangle = Rectangle(5, 3)\n",
        "\n",
        "# Accessing attributes\n",
        "print(my_rectangle.length)\n",
        "print(my_rectangle.width)\n",
        "\n",
        "# Calling a method\n",
        "area = my_rectangle.calculate_area()\n",
        "print(area)\n"
      ],
      "metadata": {
        "colab": {
          "base_uri": "https://localhost:8080/"
        },
        "id": "Q9I5S91Xoj7e",
        "outputId": "ce0fdcb3-0872-4c20-df66-8fddb9fe8969"
      },
      "execution_count": 1,
      "outputs": [
        {
          "output_type": "stream",
          "name": "stdout",
          "text": [
            "5\n",
            "3\n",
            "15\n"
          ]
        }
      ]
    },
    {
      "cell_type": "markdown",
      "source": [
        "**5. What is the difference between class variables and instance variables in Python?**\n",
        "\n",
        "**Class Variables:** Class variables are variables that are shared among all instances (objects) of a class. They are declared outside of any method in the class. Class variables have the same value across all instances of the class. If the value of a class variable is modified in one instance, the change is reflected in all other instances.\n",
        "\n",
        "**Instance Variables:** Instance variables are variables that are specific to each instance of a class. They are defined within methods using the self keyword and are unique to each object. Each instance of the class has its own set of instance variables. Changes to instance variables in one object do not affect the values of the same variables in other objects.\n",
        "\n"
      ],
      "metadata": {
        "id": "E2Mlb_TzoYCy"
      }
    },
    {
      "cell_type": "code",
      "execution_count": 2,
      "metadata": {
        "colab": {
          "base_uri": "https://localhost:8080/"
        },
        "id": "mRqfukK_Op36",
        "outputId": "4fc311ba-60c6-4dd6-ca0f-cd8efd44a260"
      },
      "outputs": [
        {
          "output_type": "stream",
          "name": "stdout",
          "text": [
            "Canine\n",
            "Canine\n",
            "Canine\n",
            "Buddy 3\n",
            "Max 5\n"
          ]
        }
      ],
      "source": [
        "class Dog:\n",
        "    common_species = \"Canine\"  # class variable\n",
        "\n",
        "    def __init__(self, name, age):\n",
        "        self.name = name        # instance variable\n",
        "        self.age = age          # instance variable\n",
        "\n",
        "# Creating two instances of the Dog class\n",
        "dog1 = Dog(\"Buddy\", 3)\n",
        "dog2 = Dog(\"Max\", 5)\n",
        "\n",
        "# Accessing class variable\n",
        "print(Dog.common_species)\n",
        "print(dog1.common_species)\n",
        "print(dog2.common_species)\n",
        "\n",
        "# Accessing instance variables\n",
        "print(dog1.name, dog1.age)\n",
        "print(dog2.name, dog2.age)\n"
      ]
    },
    {
      "cell_type": "markdown",
      "source": [
        "**6. What is the purpose of the self parameter in Python class methods?**\n",
        "\n",
        "In Python, the self parameter in class methods serves as a reference to the instance of the class itself. It is a convention and not a reserved keyword, but it is widely followed in Python programming. By using self, you can access and modify the attributes and call the methods of the instance within the class.\n",
        "\n",
        "**Here are the key purposes of the self parameter in Python class methods:**\n",
        "\n",
        "**i) Instance Reference:** self is used to refer to the instance of the class. When a method is called on an instance, the instance is passed automatically as the first parameter to the method. This allows the method to access and manipulate the instance's attributes.\n",
        "\n",
        "**ii) Accessing Instance Variables:** Inside a method, you can access instance variables using self.variable_name. This notation helps distinguish instance variables from local variables within the method.\n",
        "\n",
        "**iii) Calling Other Methods:** self is essential for calling other methods of the same instance. Methods can call each other using self.method_name(), enabling code reuse within the class."
      ],
      "metadata": {
        "id": "v7bHZWoEpJ79"
      }
    },
    {
      "cell_type": "code",
      "source": [
        "class Car:\n",
        "    def __init__(self, make, model):\n",
        "        self.make = make\n",
        "        self.model = model\n",
        "        self.is_running = False\n",
        "\n",
        "    def start_engine(self):\n",
        "        print(f\"The {self.make} {self.model}'s engine is starting.\")\n",
        "        self.is_running = True\n",
        "\n",
        "    def stop_engine(self):\n",
        "        print(f\"The {self.make} {self.model}'s engine is stopping.\")\n",
        "        self.is_running = False\n",
        "\n",
        "    def display_status(self):\n",
        "        status = \"running\" if self.is_running else \"stopped\"\n",
        "        print(f\"The {self.make} {self.model} is {status}.\")\n",
        "\n",
        "\n",
        "my_car = Car(\"Toyota\", \"Camry\")\n",
        "\n",
        "my_car.start_engine()\n",
        "my_car.display_status()\n",
        "my_car.stop_engine()\n",
        "my_car.display_status()\n"
      ],
      "metadata": {
        "colab": {
          "base_uri": "https://localhost:8080/"
        },
        "id": "2GSr4lWfpnZC",
        "outputId": "1e5b197f-dc5b-4cf0-e5ec-ac0ef393e342"
      },
      "execution_count": 3,
      "outputs": [
        {
          "output_type": "stream",
          "name": "stdout",
          "text": [
            "The Toyota Camry's engine is starting.\n",
            "The Toyota Camry is running.\n",
            "The Toyota Camry's engine is stopping.\n",
            "The Toyota Camry is stopped.\n"
          ]
        }
      ]
    },
    {
      "cell_type": "markdown",
      "source": [
        "**7. For a library management system, you have to design the \"Book\" class with OOP principles in mind. The “Book” class will have following attributes:**\n",
        "\n",
        "**a. title: Represents the title of the book.**\n",
        "\n",
        "**b. author: Represents the author(s) of the book.**\n",
        "\n",
        "**c. isbn: Represents the ISBN (International Standard Book Number) of the book.**\n",
        "\n",
        "**d. publication_year: Represents the year of publication of the book.**\n",
        "\n",
        "**e. available_copies: Represents the number of copies available for checkout.**\n",
        "\n",
        "**The class will also include the following methods:**\n",
        "\n",
        "* **a. check_out(self): Decrements the available copies by one if there are copies available for checkout.**\n",
        "\n",
        "* **b. return_book(self): Increments the available copies by one when a book is returned. **\n",
        "\n",
        "* **c. display_book_info(self): Displays the information about the book, including its attributes and the number of available copies.**"
      ],
      "metadata": {
        "id": "bb2puSBhpuqz"
      }
    },
    {
      "cell_type": "code",
      "source": [
        "class Book:\n",
        "    def __init__(self, title, author, isbn, publication_year, available_copies):\n",
        "        self.title = title\n",
        "        self.author = author\n",
        "        self.isbn = isbn\n",
        "        self.publication_year = publication_year\n",
        "        self.available_copies = available_copies\n",
        "\n",
        "    def check_out(self):\n",
        "        if self.available_copies > 0:\n",
        "            self.available_copies -= 1\n",
        "            print(f\"Book '{self.title}' checked out successfully.\")\n",
        "        else:\n",
        "            print(f\"Sorry, no available copies of '{self.title}' for checkout.\")\n",
        "\n",
        "    def return_book(self):\n",
        "        self.available_copies += 1\n",
        "        print(f\"Book '{self.title}' returned successfully.\")\n",
        "\n",
        "    def display_book_info(self):\n",
        "        print(\"Book Information:\")\n",
        "        print(f\"Title: {self.title}\")\n",
        "        print(f\"Author(s): {self.author}\")\n",
        "        print(f\"ISBN: {self.isbn}\")\n",
        "        print(f\"Publication Year: {self.publication_year}\")\n",
        "        print(f\"Available Copies: {self.available_copies}\")\n",
        "\n",
        "\n",
        "# Create an instance of the Book class\n",
        "book1 = Book(\"The Great Gatsby\", \"F. Scott Fitzgerald\", \"978-3-16-148410-0\", 1925, 5)\n",
        "\n",
        "# Display initial book information\n",
        "book1.display_book_info()\n",
        "\n",
        "# Check out a copy\n",
        "book1.check_out()\n",
        "\n",
        "# Display updated book information\n",
        "book1.display_book_info()\n",
        "\n",
        "# Return the book\n",
        "book1.return_book()\n",
        "\n",
        "# Display final book information\n",
        "book1.display_book_info()\n"
      ],
      "metadata": {
        "colab": {
          "base_uri": "https://localhost:8080/"
        },
        "id": "CjnJUp-KqU8N",
        "outputId": "cfcef7fd-3990-4885-9c29-626f21e93971"
      },
      "execution_count": 4,
      "outputs": [
        {
          "output_type": "stream",
          "name": "stdout",
          "text": [
            "Book Information:\n",
            "Title: The Great Gatsby\n",
            "Author(s): F. Scott Fitzgerald\n",
            "ISBN: 978-3-16-148410-0\n",
            "Publication Year: 1925\n",
            "Available Copies: 5\n",
            "Book 'The Great Gatsby' checked out successfully.\n",
            "Book Information:\n",
            "Title: The Great Gatsby\n",
            "Author(s): F. Scott Fitzgerald\n",
            "ISBN: 978-3-16-148410-0\n",
            "Publication Year: 1925\n",
            "Available Copies: 4\n",
            "Book 'The Great Gatsby' returned successfully.\n",
            "Book Information:\n",
            "Title: The Great Gatsby\n",
            "Author(s): F. Scott Fitzgerald\n",
            "ISBN: 978-3-16-148410-0\n",
            "Publication Year: 1925\n",
            "Available Copies: 5\n"
          ]
        }
      ]
    },
    {
      "cell_type": "markdown",
      "source": [
        "**8. For a ticket booking system, you have to design the \"Ticket\" class with OOP principles in mind. The “Ticket” class should have the following attributes:**\n",
        "\n",
        "**a. ticket_id: Represents the unique identifier for the ticket.**\n",
        "\n",
        "**b. event_name: Represents the name of the event.**\n",
        "\n",
        "**c. event_date: Represents the date of the event.**\n",
        "\n",
        "**d. venue: Represents the venue of the event.**\n",
        "\n",
        "**e. seat_number: Represents the seat number associated with the ticket.**\n",
        "\n",
        "**f. price: Represents the price of the ticket.**\n",
        "\n",
        "**g. is_reserved: Represents the reservation status of the ticket.**\n",
        "\n",
        "**The class also includes the following methods:**\n",
        "\n",
        "* **a. reserve_ticket(self): Marks the ticket as reserved if it is not already reserved.**\n",
        "\n",
        "* **b. cancel_reservation(self): Cancels the reservation of the ticket if it is already reserved.**\n",
        "\n",
        "* **c. display_ticket_info(self): Displays the information about the ticket, including its attributes and reservation status.**"
      ],
      "metadata": {
        "id": "CK7INxT8qgjr"
      }
    },
    {
      "cell_type": "code",
      "source": [
        "class Ticket:\n",
        "    def __init__(self, ticket_id, event_name, event_date, venue, seat_number, price):\n",
        "        self.ticket_id = ticket_id\n",
        "        self.event_name = event_name\n",
        "        self.event_date = event_date\n",
        "        self.venue = venue\n",
        "        self.seat_number = seat_number\n",
        "        self.price = price\n",
        "        self.is_reserved = False\n",
        "\n",
        "    def reserve_ticket(self):\n",
        "        if not self.is_reserved:\n",
        "            self.is_reserved = True\n",
        "            print(f\"Ticket {self.ticket_id} for '{self.event_name}' reserved successfully.\")\n",
        "        else:\n",
        "            print(f\"Ticket {self.ticket_id} is already reserved.\")\n",
        "\n",
        "    def cancel_reservation(self):\n",
        "        if self.is_reserved:\n",
        "            self.is_reserved = False\n",
        "            print(f\"Reservation for Ticket {self.ticket_id} canceled.\")\n",
        "        else:\n",
        "            print(f\"Ticket {self.ticket_id} is not reserved.\")\n",
        "\n",
        "    def display_ticket_info(self):\n",
        "        print(\"Ticket Information:\")\n",
        "        print(f\"Ticket ID: {self.ticket_id}\")\n",
        "        print(f\"Event Name: {self.event_name}\")\n",
        "        print(f\"Event Date: {self.event_date}\")\n",
        "        print(f\"Venue: {self.venue}\")\n",
        "        print(f\"Seat Number: {self.seat_number}\")\n",
        "        print(f\"Price: ${self.price}\")\n",
        "        print(f\"Reservation Status: {'Reserved' if self.is_reserved else 'Not Reserved'}\")\n",
        "\n",
        "\n",
        "# Create an instance of the Ticket class\n",
        "ticket1 = Ticket(1, \"Concert\", \"2024-02-15\", \"City Arena\", \"A123\", 50.0)\n",
        "\n",
        "# Display initial ticket information\n",
        "ticket1.display_ticket_info()\n",
        "\n",
        "# Reserve the ticket\n",
        "ticket1.reserve_ticket()\n",
        "\n",
        "# Display updated ticket information\n",
        "ticket1.display_ticket_info()\n",
        "\n",
        "# Cancel the reservation\n",
        "ticket1.cancel_reservation()\n",
        "\n",
        "# Display final ticket information\n",
        "ticket1.display_ticket_info()\n"
      ],
      "metadata": {
        "colab": {
          "base_uri": "https://localhost:8080/"
        },
        "id": "E-xSVooFr5Tg",
        "outputId": "9519bde7-5f72-40a2-f146-43d13f22cf46"
      },
      "execution_count": 5,
      "outputs": [
        {
          "output_type": "stream",
          "name": "stdout",
          "text": [
            "Ticket Information:\n",
            "Ticket ID: 1\n",
            "Event Name: Concert\n",
            "Event Date: 2024-02-15\n",
            "Venue: City Arena\n",
            "Seat Number: A123\n",
            "Price: $50.0\n",
            "Reservation Status: Not Reserved\n",
            "Ticket 1 for 'Concert' reserved successfully.\n",
            "Ticket Information:\n",
            "Ticket ID: 1\n",
            "Event Name: Concert\n",
            "Event Date: 2024-02-15\n",
            "Venue: City Arena\n",
            "Seat Number: A123\n",
            "Price: $50.0\n",
            "Reservation Status: Reserved\n",
            "Reservation for Ticket 1 canceled.\n",
            "Ticket Information:\n",
            "Ticket ID: 1\n",
            "Event Name: Concert\n",
            "Event Date: 2024-02-15\n",
            "Venue: City Arena\n",
            "Seat Number: A123\n",
            "Price: $50.0\n",
            "Reservation Status: Not Reserved\n"
          ]
        }
      ]
    },
    {
      "cell_type": "markdown",
      "source": [
        "**9. You are creating a shopping cart for an e-commerce website. Using OOP to model the \"ShoppingCart\" functionality the class should contain following attributes and methods:**\n",
        "\n",
        "**a. items: Represents the list of items in the shopping cart.**\n",
        "\n",
        "**The class also includes the following methods:**\n",
        "\n",
        "* **a. add_item(self, item): Adds an item to the shopping cart by appending it to the list of items.**\n",
        "\n",
        "* **b. remove_item(self, item): Removes an item from the shopping cart if it exists in the list.**\n",
        "\n",
        "* **c. view_cart(self): Displays the items currently present in the shopping cart.**\n",
        "\n",
        "* **d. clear_cart(self): Clears all items from the shopping cart by reassigning an empty list to the items attribute.**"
      ],
      "metadata": {
        "id": "t5--L2dKsIKj"
      }
    },
    {
      "cell_type": "code",
      "source": [
        "class ShoppingCart:\n",
        "    def __init__(self):\n",
        "        self.items = []\n",
        "\n",
        "    def add_item(self, item):\n",
        "        self.items.append(item)\n",
        "        print(f\"Item '{item}' added to the shopping cart.\")\n",
        "\n",
        "    def remove_item(self, item):\n",
        "        if item in self.items:\n",
        "            self.items.remove(item)\n",
        "            print(f\"Item '{item}' removed from the shopping cart.\")\n",
        "        else:\n",
        "            print(f\"Item '{item}' not found in the shopping cart.\")\n",
        "\n",
        "    def view_cart(self):\n",
        "        print(\"Shopping Cart:\")\n",
        "        if not self.items:\n",
        "            print(\"The shopping cart is empty.\")\n",
        "        else:\n",
        "            for item in self.items:\n",
        "                print(f\"- {item}\")\n",
        "\n",
        "    def clear_cart(self):\n",
        "        self.items = []\n",
        "        print(\"Shopping cart cleared.\")\n",
        "\n",
        "\n",
        "# Create an instance of the ShoppingCart class\n",
        "my_cart = ShoppingCart()\n",
        "\n",
        "# Display initial shopping cart\n",
        "my_cart.view_cart()\n",
        "\n",
        "# Add items to the shopping cart\n",
        "my_cart.add_item(\"Laptop\")\n",
        "my_cart.add_item(\"Headphones\")\n",
        "my_cart.add_item(\"Mouse\")\n",
        "\n",
        "# View updated shopping cart\n",
        "my_cart.view_cart()\n",
        "\n",
        "# Remove an item from the shopping cart\n",
        "my_cart.remove_item(\"Headphones\")\n",
        "\n",
        "# View updated shopping cart\n",
        "my_cart.view_cart()\n",
        "\n",
        "# Clear the shopping cart\n",
        "my_cart.clear_cart()\n",
        "\n",
        "# View final shopping cart\n",
        "my_cart.view_cart()\n"
      ],
      "metadata": {
        "colab": {
          "base_uri": "https://localhost:8080/"
        },
        "id": "voOIGBDLsmDC",
        "outputId": "05a83357-5652-48cb-ce23-2dd836513d06"
      },
      "execution_count": 6,
      "outputs": [
        {
          "output_type": "stream",
          "name": "stdout",
          "text": [
            "Shopping Cart:\n",
            "The shopping cart is empty.\n",
            "Item 'Laptop' added to the shopping cart.\n",
            "Item 'Headphones' added to the shopping cart.\n",
            "Item 'Mouse' added to the shopping cart.\n",
            "Shopping Cart:\n",
            "- Laptop\n",
            "- Headphones\n",
            "- Mouse\n",
            "Item 'Headphones' removed from the shopping cart.\n",
            "Shopping Cart:\n",
            "- Laptop\n",
            "- Mouse\n",
            "Shopping cart cleared.\n",
            "Shopping Cart:\n",
            "The shopping cart is empty.\n"
          ]
        }
      ]
    },
    {
      "cell_type": "markdown",
      "source": [
        "**10. Imagine a school management system. You have to design the \"Student\" class using OOP concepts.The “Student” class has the following attributes:**\n",
        "\n",
        "**a. name: Represents the name of the student.**\n",
        "\n",
        "**b. age: Represents the age of the student.**\n",
        "\n",
        "**c. grade: Represents the grade or class of the student.**\n",
        "\n",
        "**d. student_id: Represents the unique identifier for the student.**\n",
        "\n",
        "**e. attendance: Represents the attendance record of the student.**\n",
        "\n",
        "**The class should also include the following methods:**\n",
        "\n",
        "* **a. update_attendance(self, date, status): Updates the attendance record of the student for a given date with the provided status (e.g., present or absent).**\n",
        "\n",
        "* **b. get_attendance(self): Returns the attendance record of the student.**\n",
        "\n",
        "* **c. get_average_attendance(self): Calculates and returns the average attendance percentage of the student based on their attendance record.**"
      ],
      "metadata": {
        "id": "DcGEYAFssqVf"
      }
    },
    {
      "cell_type": "code",
      "source": [
        "class Student:\n",
        "    def __init__(self, name, age, grade, student_id):\n",
        "        self.name = name\n",
        "        self.age = age\n",
        "        self.grade = grade\n",
        "        self.student_id = student_id\n",
        "        self.attendance = {}  # Dictionary to store attendance records (date: status)\n",
        "\n",
        "    def update_attendance(self, date, status):\n",
        "        self.attendance[date] = status\n",
        "        print(f\"Attendance updated for {self.name} on {date}: {status}\")\n",
        "\n",
        "    def get_attendance(self):\n",
        "        return self.attendance\n",
        "\n",
        "    def get_average_attendance(self):\n",
        "        if not self.attendance:\n",
        "            print(\"No attendance records available.\")\n",
        "            return 0.0\n",
        "\n",
        "        total_days = len(self.attendance)\n",
        "        present_days = list(self.attendance.values()).count(\"present\")\n",
        "        average_percentage = (present_days / total_days) * 100\n",
        "        return average_percentage\n",
        "\n",
        "# Create an instance of the Student class\n",
        "student1 = Student(\"John Doe\", 15, \"10th Grade\", \"S12345\")\n",
        "\n",
        "# Update attendance records\n",
        "student1.update_attendance(\"2024-02-01\", \"present\")\n",
        "student1.update_attendance(\"2024-02-02\", \"absent\")\n",
        "student1.update_attendance(\"2024-02-03\", \"present\")\n",
        "\n",
        "# Get attendance records\n",
        "attendance_records = student1.get_attendance()\n",
        "print(\"Attendance Records:\", attendance_records)\n",
        "\n",
        "# Get average attendance\n",
        "average_attendance = student1.get_average_attendance()\n",
        "print(f\"Average Attendance: {average_attendance:.2f}%\")\n"
      ],
      "metadata": {
        "colab": {
          "base_uri": "https://localhost:8080/"
        },
        "id": "q57Hi1SIs9DX",
        "outputId": "1c890234-6e55-46ce-fb3e-f058995d20ff"
      },
      "execution_count": 7,
      "outputs": [
        {
          "output_type": "stream",
          "name": "stdout",
          "text": [
            "Attendance updated for John Doe on 2024-02-01: present\n",
            "Attendance updated for John Doe on 2024-02-02: absent\n",
            "Attendance updated for John Doe on 2024-02-03: present\n",
            "Attendance Records: {'2024-02-01': 'present', '2024-02-02': 'absent', '2024-02-03': 'present'}\n",
            "Average Attendance: 66.67%\n"
          ]
        }
      ]
    }
  ]
}