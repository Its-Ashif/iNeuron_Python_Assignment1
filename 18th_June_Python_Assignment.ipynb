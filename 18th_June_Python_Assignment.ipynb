{
  "nbformat": 4,
  "nbformat_minor": 0,
  "metadata": {
    "colab": {
      "provenance": []
    },
    "kernelspec": {
      "name": "python3",
      "display_name": "Python 3"
    },
    "language_info": {
      "name": "python"
    }
  },
  "cells": [
    {
      "cell_type": "markdown",
      "source": [
        "# **18th June Python Assignment**"
      ],
      "metadata": {
        "id": "9zOgyiIInOKA"
      }
    },
    {
      "cell_type": "markdown",
      "source": [
        "**1. What is the role of the 'else' block in a try-except statement? Provide an example scenario where it would be useful.**\n",
        "\n",
        "The else block is used to specify a block of code that will be executed if the try block raises no exceptions. It is optional, and its presence allows us to separate the code that might raise an exception from the code that should run only if no exceptions occur.\n"
      ],
      "metadata": {
        "id": "dNna83lBnXVK"
      }
    },
    {
      "cell_type": "code",
      "execution_count": 1,
      "metadata": {
        "colab": {
          "base_uri": "https://localhost:8080/"
        },
        "id": "rmVJn1L_nKKq",
        "outputId": "b70928db-6685-4469-cb6e-24e79d4999de"
      },
      "outputs": [
        {
          "output_type": "stream",
          "name": "stdout",
          "text": [
            "The result of 8 divided by 2 is: 4.0\n",
            "Error: Cannot divide by zero!\n"
          ]
        }
      ],
      "source": [
        "def divide_numbers(a, b):\n",
        "    try:\n",
        "        result = a / b\n",
        "    except ZeroDivisionError:\n",
        "        print(\"Error: Cannot divide by zero!\")\n",
        "    else:\n",
        "        print(f\"The result of {a} divided by {b} is: {result}\")\n",
        "\n",
        "divide_numbers(8, 2)\n",
        "divide_numbers(5, 0)"
      ]
    },
    {
      "cell_type": "markdown",
      "source": [
        "**2. Can a try-except block be nested inside another try-except block? Explain with an example.**\n",
        "\n",
        "Yes, a try-except block can be nested inside another try-except block. This allows for handling different types of exceptions at different levels of code. Each try-except block can catch and handle exceptions specific to its scope."
      ],
      "metadata": {
        "id": "mzrJtEwInznc"
      }
    },
    {
      "cell_type": "code",
      "source": [
        "def nested_example(a, b):\n",
        "    try:\n",
        "        result = a / b\n",
        "        print(f\"Result of division: {result}\")\n",
        "\n",
        "        try:\n",
        "            # Additional operation that may raise an exception\n",
        "            value = int(input(\"Enter a number: \"))\n",
        "            print(f\"The squared value is: {value**2}\")\n",
        "        except ValueError:\n",
        "            print(\"Error: Invalid input. Please enter a valid number.\")\n",
        "\n",
        "    except ZeroDivisionError:\n",
        "        print(\"Error: Cannot divide by zero.\")\n",
        "\n",
        "nested_example(8, 2)\n"
      ],
      "metadata": {
        "colab": {
          "base_uri": "https://localhost:8080/"
        },
        "id": "DMhGkkWgn-W1",
        "outputId": "4c63df5a-1e21-40bb-e30a-283b27a72850"
      },
      "execution_count": 2,
      "outputs": [
        {
          "output_type": "stream",
          "name": "stdout",
          "text": [
            "Result of division: 4.0\n",
            "Enter a number: 2\n",
            "The squared value is: 4\n"
          ]
        }
      ]
    },
    {
      "cell_type": "markdown",
      "source": [
        "**3. How can you create a custom exception class in Python? Provide an example that demonstrates its usage.**\n",
        "\n",
        "In Python, we can create a custom exception class by subclassing the built-in Exception class or one of its derived classes. By creating your own exception class, we can define specific behaviors and messages for our application's exceptional conditions."
      ],
      "metadata": {
        "id": "LDxtqkuKoEiw"
      }
    },
    {
      "cell_type": "code",
      "source": [
        "class CustomError(Exception):\n",
        "    \"\"\"Custom exception class.\"\"\"\n",
        "    def __init__(self, message=\"A custom error occurred.\"):\n",
        "        self.message = message\n",
        "        super().__init__(self.message)\n",
        "\n",
        "def example_function(value):\n",
        "    try:\n",
        "        if value < 0:\n",
        "            raise CustomError(\"Negative values are not allowed.\")\n",
        "        else:\n",
        "            print(f\"The value is: {value}\")\n",
        "    except CustomError as ce:\n",
        "        print(f\"CustomError caught: {ce}\")\n",
        "\n",
        "example_function(10)\n",
        "example_function(-5)\n"
      ],
      "metadata": {
        "colab": {
          "base_uri": "https://localhost:8080/"
        },
        "id": "D8DHusBloWhJ",
        "outputId": "4021bbbe-d8a4-42a5-9068-9672288ba244"
      },
      "execution_count": 3,
      "outputs": [
        {
          "output_type": "stream",
          "name": "stdout",
          "text": [
            "The value is: 10\n",
            "CustomError caught: Negative values are not allowed.\n"
          ]
        }
      ]
    },
    {
      "cell_type": "markdown",
      "source": [
        "**4. What are some common exceptions that are built-in to Python?**\n",
        "\n",
        "Some common built-in exceptions are:\n",
        "\n",
        "**i) SyntaxError:** Raised when the Python interpreter encounters a syntax error in the code.\n",
        "\n",
        "**ii) IndentationError:** Raised when there is an incorrect indentation in the code.\n",
        "\n",
        "**iii) NameError:** Raised when a local or global name is not found.\n",
        "\n",
        "**iv) TypeError:** Raised when an operation or function is applied to an object of an inappropriate type.\n",
        "\n",
        "**v) ValueError:** Raised when a function receives an argument of the correct type but with an inappropriate value.\n",
        "\n",
        "**vi) ZeroDivisionError:** Raised when the second operand of a division or modulo operation is zero.\n",
        "\n"
      ],
      "metadata": {
        "id": "st1F80Ojoadg"
      }
    },
    {
      "cell_type": "markdown",
      "source": [
        "**5. What is logging in Python, and why is it important in software development?**\n",
        "\n",
        "\n",
        "Logging in Python refers to the process of recording messages, events, or information generated by a program during its execution. The logging module in Python provides a flexible and configurable way to generate log messages at different levels, such as debug, info, warning, error, and critical. Developers can use logging to capture valuable information about the program's behavior, errors, and state.\n",
        "\n",
        "**Some reasons why logging is important in software development:**\n",
        "\n",
        "**i) Debugging and Troubleshooting:** Logging helps developers identify and understand issues by providing insights into the flow of the program, variable values, and the occurrence of specific events.\n",
        "\n",
        "**ii) Monitoring and Performance Analysis:** In production environments, logging allows us to monitor the behavior of your application. We can track performance metrics, spot errors, and gather information on how the application is being used.\n",
        "\n",
        "**iii) Error Tracking:** By logging errors and exceptions, developers can trace the root cause of problems in their code. This information is crucial for fixing bugs and improving the reliability of the software.\n",
        "\n",
        "**iv) Audit Trails:** Logging is essential for creating audit trails and maintaining a record of important events in an application. This is particularly important for applications that need to adhere to regulatory requirements or security standards."
      ],
      "metadata": {
        "id": "FDsw2jZlo4vw"
      }
    },
    {
      "cell_type": "markdown",
      "source": [
        "**6. Explain the purpose of log levels in Python logging and provide examples of when each log level would be appropriate.**\n",
        "\n",
        "Log levels in Python logging allow us to categorize log messages based on their severity or importance. The logging module defines several log levels, each serving a specific purpose.\n",
        "\n",
        "Here are the common log levels in increasing order of severity:\n",
        "\n",
        "**i) DEBUG (10):** Detailed information, typically used for diagnosing problems during development. Debug messages are not usually needed in a production environment.\n",
        "\n",
        "**ii) INFO (20):** General information about the program's execution. Useful for providing a high-level overview of what the program is doing.\n",
        "\n",
        "**iii) WARNING (30):** Indicates a potential issue that doesn't necessarily prevent the program from running but might need attention. It's often used to alert about something unexpected.\n",
        "\n",
        "**iv) ERROR (40):** Indicates a more severe problem that prevented a specific operation from completing. Errors should be investigated and addressed.\n",
        "\n",
        "**v) CRITICAL (50):** The most severe level, indicating a critical error that may lead to a program crash or serious malfunction. Critical messages require immediate attention."
      ],
      "metadata": {
        "id": "f1I-GZnjpb_C"
      }
    },
    {
      "cell_type": "code",
      "source": [
        "import logging\n",
        "\n",
        "logging.basicConfig(level=logging.WARNING)\n",
        "\n",
        "logging.debug(\"This won't be recorded.\")\n",
        "logging.info(\"This won't be recorded.\")\n",
        "logging.warning(\"This will be recorded.\")\n",
        "logging.error(\"This will be recorded.\")\n",
        "logging.critical(\"This will be recorded.\")"
      ],
      "metadata": {
        "colab": {
          "base_uri": "https://localhost:8080/"
        },
        "id": "oDq66ij1qCUl",
        "outputId": "001c41df-be26-4aab-8294-fddcea868f5d"
      },
      "execution_count": 4,
      "outputs": [
        {
          "output_type": "stream",
          "name": "stderr",
          "text": [
            "WARNING:root:This will be recorded.\n",
            "ERROR:root:This will be recorded.\n",
            "CRITICAL:root:This will be recorded.\n"
          ]
        }
      ]
    },
    {
      "cell_type": "markdown",
      "source": [
        "**7. What are log formatters in Python logging, and how can you customise the log message format using formatters?**\n",
        "\n",
        "Log formatters in Python logging allow us to customize the appearance of log messages, determining how information such as timestamps, log levels, and log messages are presented in the output. The Formatter class in the logging module provides a way to define the layout of log records."
      ],
      "metadata": {
        "id": "zxVgVWHZqINa"
      }
    },
    {
      "cell_type": "code",
      "source": [
        "import logging\n",
        "\n",
        "logger = logging.getLogger(\"example_logger\")\n",
        "\n",
        "formatter = logging.Formatter('%(asctime)s - %(levelname)s - %(message)s')\n",
        "\n",
        "handler = logging.StreamHandler()\n",
        "handler.setFormatter(formatter)\n",
        "\n",
        "logger.addHandler(handler)\n",
        "\n",
        "logger.setLevel(logging.INFO)\n",
        "\n",
        "logger.debug(\"This is a debug message.\")\n",
        "logger.info(\"This is an info message.\")\n",
        "logger.warning(\"This is a warning message.\")\n"
      ],
      "metadata": {
        "colab": {
          "base_uri": "https://localhost:8080/"
        },
        "id": "ZW9CFsBlqUgZ",
        "outputId": "32191bf4-5afb-4e2c-ad14-a2c823ce7bcc"
      },
      "execution_count": 5,
      "outputs": [
        {
          "output_type": "stream",
          "name": "stderr",
          "text": [
            "2024-01-20 06:58:04,284 - INFO - This is an info message.\n",
            "INFO:example_logger:This is an info message.\n",
            "2024-01-20 06:58:04,289 - WARNING - This is a warning message.\n",
            "WARNING:example_logger:This is a warning message.\n"
          ]
        }
      ]
    },
    {
      "cell_type": "markdown",
      "source": [
        "**8. How can you set up logging to capture log messages from multiple modules or classes in a Python application?**\n",
        "\n",
        "**We can follow the following steps to set up logging to capture log messages from multiple modules or classes:**\n",
        "\n",
        "**i) Create a Logger in Each Module or Class:**\n",
        "In each module or class where we want to log messages, create a logger instance using the getLogger method from the logging module. Assign a unique name to each logger. This helps us identify the source of log messages.\n",
        "\n",
        "**ii) Configure Logging in the Main Program:**\n",
        "In our main program or application entry point, configure the logging settings. This includes setting up handlers, formatters, and specifying the logging level. We can use the basicConfig method for basic configuration or set up more complex configurations with addHandler, setFormatter, and other methods.\n",
        "\n",
        "**iii) Use Loggers to Generate Messages:**\n",
        "In our modules or classes, use the loggers you created to generate log messages at different levels."
      ],
      "metadata": {
        "id": "vwxKZrRgqZ6w"
      }
    },
    {
      "cell_type": "markdown",
      "source": [
        "**9. What is the difference between the logging and print statements in Python? When should you use logging over print statements in a real-world application?**\n",
        "\n",
        "### **Differences between logging and print statements:**\n",
        "\n",
        "**i) Output Destination:**\n",
        "\n",
        "  * print statement: Outputs messages to the standard output (usually the console).\n",
        "\n",
        "  * logging module: Allows flexible configuration to direct log messages to different outputs, such as files, the console, or remote servers.\n",
        "\n",
        "**ii) Verbosity Control:**\n",
        "  * print statement: Typically used for immediate and ad-hoc debugging. All print statements are visible unless manually removed.\n",
        "\n",
        "  * logging module: Provides different log levels (e.g., debug, info, warning, error, critical). Log levels allow fine-grained control over the verbosity of the output. During development, you can set a higher logging level to see more detailed information, and in production, you can set a lower level to reduce verbosity.\n",
        "\n",
        "**iii) Structured Information:**\n",
        "* print statement: Primarily outputs the raw data or information as a string.\n",
        "* logging module: Allows you to log structured information with additional context, such as timestamps, log levels, and loggers' names.\n",
        "\n",
        "### **When to use logging over print statements in a real-world application:**\n",
        "\n",
        "* **Debugging and Development:** During development, you may use print statements for quick debugging. However, using logging with appropriate log levels provides a more systematic and scalable approach. You can easily toggle the logging level to control the amount of information displayed.\n",
        "\n",
        "* **Production Environments:** In production, print statements are generally inappropriate, as they can expose sensitive information and are not easily controllable. logging allows you to manage logging levels, route logs to files or remote servers, and handle errors more gracefully.\n",
        "\n",
        "* **Logging for Analysis and Monitoring:** In real-world applications, logs are crucial for analyzing application behavior, monitoring performance, and diagnosing issues. logging provides a structured way to capture this information, making it easier to analyze logs in a consistent format."
      ],
      "metadata": {
        "id": "0nToLNlJspuv"
      }
    },
    {
      "cell_type": "markdown",
      "source": [
        "**10. Write a Python program that logs a message to a file named \"app.log\" with the following requirements:**\n",
        "\n",
        "**● The log message should be \"Hello, World!\"**\n",
        "\n",
        "**● The log level should be set to \"INFO.\"**\n",
        "\n",
        "**● The log file should append new log entries without overwriting previous ones.**"
      ],
      "metadata": {
        "id": "yhFaF0aQukEZ"
      }
    },
    {
      "cell_type": "code",
      "source": [
        "import logging\n",
        "logging.basicConfig(\n",
        "    filename='app.log',\n",
        "    level=logging.INFO,\n",
        "    format='%(asctime)s - %(levelname)s - %(message)s',\n",
        ")\n",
        "\n",
        "# Log the \"Hello, World!\" message with INFO level\n",
        "logging.info(\"Hello, World!\")\n"
      ],
      "metadata": {
        "id": "KiqWR-oku0m_"
      },
      "execution_count": 6,
      "outputs": []
    },
    {
      "cell_type": "markdown",
      "source": [
        "**11. Create a Python program that logs an error message to the console and a file named \"errors.log\" if an exception occurs during the program's execution. The error message should include the exception type and a timestamp.**"
      ],
      "metadata": {
        "id": "l_5SliyMu8SP"
      }
    },
    {
      "cell_type": "code",
      "source": [
        "import logging\n",
        "import datetime\n",
        "\n",
        "logging.basicConfig(\n",
        "    level=logging.ERROR,\n",
        "    format='%(asctime)s - %(levelname)s - %(message)s',\n",
        "    handlers=[\n",
        "        logging.StreamHandler(),\n",
        "        logging.FileHandler('errors.log', mode='a'),\n",
        "    ]\n",
        ")\n",
        "\n",
        "def example_function():\n",
        "    try:\n",
        "\n",
        "        result = 10 / 0\n",
        "    except Exception as e:\n",
        "        # Log the error message with exception type and timestamp\n",
        "        error_message = f\"Exception Type: {type(e).__name__}, Timestamp: {datetime.datetime.now()}\"\n",
        "        logging.error(error_message, exc_info=True)\n",
        "\n",
        "\n",
        "example_function()\n"
      ],
      "metadata": {
        "colab": {
          "base_uri": "https://localhost:8080/"
        },
        "id": "XabUJzqPvCvq",
        "outputId": "82d6a09d-bf99-4267-920d-d0e65129fc21"
      },
      "execution_count": 7,
      "outputs": [
        {
          "output_type": "stream",
          "name": "stderr",
          "text": [
            "ERROR:root:Exception Type: ZeroDivisionError, Timestamp: 2024-01-20 07:18:51.415240\n",
            "Traceback (most recent call last):\n",
            "  File \"<ipython-input-7-b8f63d38feb6>\", line 16, in example_function\n",
            "    result = 10 / 0\n",
            "ZeroDivisionError: division by zero\n"
          ]
        }
      ]
    }
  ]
}