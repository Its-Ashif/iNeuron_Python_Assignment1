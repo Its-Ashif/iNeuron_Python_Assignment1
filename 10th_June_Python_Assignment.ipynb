{
  "nbformat": 4,
  "nbformat_minor": 0,
  "metadata": {
    "colab": {
      "provenance": []
    },
    "kernelspec": {
      "name": "python3",
      "display_name": "Python 3"
    },
    "language_info": {
      "name": "python"
    }
  },
  "cells": [
    {
      "cell_type": "markdown",
      "source": [
        "# **10th June - Python (Functions Assignment)**\n"
      ],
      "metadata": {
        "id": "vQTD_8RyOI0s"
      }
    },
    {
      "cell_type": "markdown",
      "source": [
        "**1. In Python, what is the difference between a built-in function and a user-defined function? Provide an example of each.**\n",
        "\n",
        "**Built-in Function:**\n",
        "\n",
        "Built-in functions are functions that are provided by Python itself, and they are available for use without the need for additional definitions. These functions are part of the Python standard library and cover a wide range of common tasks and operations.\n",
        "\n",
        "Examples of built-in functions include print( ), len( ), input( ), etc.\n",
        "\n",
        "**User-Defined Function:**\n",
        "\n",
        "User-defined functions are functions created by programmers to perform specific tasks. These functions need to be defined by the programmer before they can be used."
      ],
      "metadata": {
        "id": "DyrTPEzYT7QZ"
      }
    },
    {
      "cell_type": "code",
      "execution_count": null,
      "metadata": {
        "colab": {
          "base_uri": "https://localhost:8080/"
        },
        "id": "3Pgjf_JOTxpf",
        "outputId": "c6fac711-525b-47ea-d8a9-c35593b5ba88"
      },
      "outputs": [
        {
          "output_type": "stream",
          "name": "stdout",
          "text": [
            "Length of the list: 5\n",
            "Square of 5 is: 25\n"
          ]
        }
      ],
      "source": [
        "# Using the built-in len() function to get the length of a list\n",
        "my_list = [1, 2, 3, 4, 5]\n",
        "length = len(my_list)\n",
        "print(\"Length of the list:\", length)\n",
        "\n",
        "# Defining a user-defined function to calculate the square of a number\n",
        "def square(num):\n",
        "    return num * num\n",
        "result = square(5)\n",
        "print(\"Square of 5 is:\", result)"
      ]
    },
    {
      "cell_type": "markdown",
      "source": [
        "**2. How can you pass arguments to a function in Python? Explain the difference between positional arguments and keyword arguments.**\n",
        "\n",
        "We can pass arguments to a function in two main ways - as positional arguments and as keyword arguments.\n",
        "\n",
        "**Positional Arguments:**\n",
        "\n",
        "Positional arguments are matched to the function parameters based on their position or order. When we call a function with positional arguments, the values are assigned to the parameters in the same order they appear in the function definition. The number and order of positional arguments must match the function's parameter list.\n",
        "\n",
        "**Keyword Arguments:**\n",
        "\n",
        "Keyword arguments are used to pass arguments to a function by specifying the parameter names in the function call. This allows us to pass arguments in any order, which can make the code more readable and less error-prone, especially for functions with many parameters. Keyword arguments are defined using the parameter name followed by an equal sign and the value."
      ],
      "metadata": {
        "id": "sXE9ozsxWPwz"
      }
    },
    {
      "cell_type": "code",
      "source": [
        "def add(a, b):\n",
        "    return a + b\n",
        "\n",
        "# Using Positional Arguments to call add function\n",
        "result = add(3, 5)  # '3' is assigned to 'a' and '5' is assigned to 'b'\n",
        "print(result)\n",
        "\n",
        "#Using Keyword Arguments to call add function\n",
        "result = add(b=10,a=5)\n",
        "print(result)\n",
        "\n",
        "#Using both Keyword and Positional Arguments to call add function\n",
        "result = add(10,b=3)\n",
        "print(result)"
      ],
      "metadata": {
        "colab": {
          "base_uri": "https://localhost:8080/"
        },
        "id": "W_v--S0FXNBT",
        "outputId": "0084a9c4-f573-42ab-f057-d8b3ab0d4349"
      },
      "execution_count": null,
      "outputs": [
        {
          "output_type": "stream",
          "name": "stdout",
          "text": [
            "8\n",
            "15\n",
            "13\n"
          ]
        }
      ]
    },
    {
      "cell_type": "markdown",
      "source": [
        "**3. What is the purpose of the return statement in a function? Can a function have multiple return statements? Explain with an example.**\n",
        "\n",
        "The return statement in a function serves two main purposes:\n",
        "\n",
        "**i) Returning a Value:** It allows a function to send a result or value back to the code that called the function.\n",
        "  \n",
        "**ii) Exiting the Function:** When a return statement is encountered in a function, the function execution is terminated, and control is handed back to the calling code. This means that any code after the return statement in the function will not be executed.\n",
        "\n",
        "A function can indeed have multiple return statements, and which one is executed depends on certain conditions or branches within the function. Once a return statement is executed, the function exits immediately."
      ],
      "metadata": {
        "id": "mQM-IVsVXzTc"
      }
    },
    {
      "cell_type": "code",
      "source": [
        "# Function with multiple return statements\n",
        "def divide(a, b):\n",
        "    if b == 0:\n",
        "        return \"Division by zero is not allowed.\"\n",
        "    else:\n",
        "        return a / b\n",
        "\n",
        "result1 = divide(10, 2)\n",
        "print(result1)\n",
        "\n",
        "result2 = divide(8, 0)\n",
        "print(result2)"
      ],
      "metadata": {
        "colab": {
          "base_uri": "https://localhost:8080/"
        },
        "id": "u97FX0EhYj_5",
        "outputId": "77559482-1f6a-474d-eb71-2567711f9d8c"
      },
      "execution_count": null,
      "outputs": [
        {
          "output_type": "stream",
          "name": "stdout",
          "text": [
            "5.0\n",
            "Division by zero is not allowed.\n"
          ]
        }
      ]
    },
    {
      "cell_type": "markdown",
      "source": [
        "**4. What are lambda functions in Python? How are they different from regular functions? Provide an example where a lambda function can be useful.**\n",
        "\n",
        "Lambda functions in Python are small, and inline functions that are defined using the lambda keyword. They are also known as lambda expressions. Lambda functions are used for short, simple operations where a full function definition is not needed.\n",
        "\n",
        "Lambda functions are different from regular functions because of the following characteristics:\n",
        "\n",
        "i) They are anonymous, meaning they don't have a name like regular functions defined with def.\n",
        "\n",
        "ii) They are typically used for small, one-off operations.\n",
        "\n",
        "iii) They can take any number of arguments but can only have one expression.\n",
        "\n",
        "iv) They return the result of the expression when called.\n",
        "\n",
        "**Example: Using a lambda function for sorting**\n",
        "\n",
        "Lambda functions are often used in conjunction with functions like sorted( ) or max( ) that accept a key argument to determine the sorting order or how to find the maximum element. In this example, a lambda function is used to sort a list of tuples by the second element of each tuple:"
      ],
      "metadata": {
        "id": "D5YTCH_yY0f4"
      }
    },
    {
      "cell_type": "code",
      "source": [
        "data = [(1, 4), (3, 1), (2, 8), (5, 6)]\n",
        "\n",
        "# Sort the list of tuples based on the second element using a lambda function\n",
        "sorted_data = sorted(data, key=lambda x: x[1])\n",
        "print(sorted_data)"
      ],
      "metadata": {
        "colab": {
          "base_uri": "https://localhost:8080/"
        },
        "id": "AGNPEKNEaExX",
        "outputId": "e4ed1975-905d-4ac0-8964-6039feb3f3a6"
      },
      "execution_count": null,
      "outputs": [
        {
          "output_type": "stream",
          "name": "stdout",
          "text": [
            "[(3, 1), (1, 4), (5, 6), (2, 8)]\n"
          ]
        }
      ]
    },
    {
      "cell_type": "markdown",
      "source": [
        "**5. How does the concept of \"scope\" apply to functions in Python? Explain the difference between local scope and global scope.**\n",
        "\n",
        "In Python, the concept of \"scope\" refers to the visibility and accessibility of variables within different parts of the code, specifically within functions.\n",
        "\n",
        "There are two main types of scope in Python - local scope and global scope.\n",
        "\n",
        "**Local Scope:**\n",
        "\n",
        "Local scope refers to the innermost level of scope and is associated with a specific function. Variables defined within a function are said to have local scope, meaning they are only accessible within that function. These local variables are created when the function is called and destroyed when the function exits. Local variables take precedence over variables with the same name in higher scopes (like global scope).\n",
        "\n",
        "**Global Scope:**\n",
        "\n",
        "Global scope refers to the outermost level of scope and is associated with the entire Python code. Variables defined outside of any function, at the top level of a code, have global scope and can be accessed from any part of the code. Global variables can be used both within functions and outside of them. If a variable with the same name is defined both globally and locally, the local variable takes precedence within the function."
      ],
      "metadata": {
        "id": "WH3CWbLRaKKq"
      }
    },
    {
      "cell_type": "code",
      "source": [
        "def my_function():\n",
        "    x = 10  # 'x' is a local variable\n",
        "    print(x)\n",
        "\n",
        "my_function()\n",
        "# Accessing 'x' outside the function would result in an error\n",
        "\n",
        "y = 20  # 'y' is a global variable\n",
        "\n",
        "def another_function():\n",
        "    print(y)  # 'y' can be accessed within the function\n",
        "\n",
        "another_function()\n",
        "print(y)  # 'y' can also be accessed outside the function\n"
      ],
      "metadata": {
        "colab": {
          "base_uri": "https://localhost:8080/"
        },
        "id": "ROufXOJDbV-Q",
        "outputId": "0ab0832f-fab9-48a6-bdb2-d63c5db19e79"
      },
      "execution_count": null,
      "outputs": [
        {
          "output_type": "stream",
          "name": "stdout",
          "text": [
            "10\n",
            "20\n",
            "20\n"
          ]
        }
      ]
    },
    {
      "cell_type": "markdown",
      "source": [
        "**6. How can you use the \"return\" statement in a Python function to return multiple values?**\n",
        "\n",
        "We can use the return statement to return multiple values from a function by returning a tuple, a list, or any other data structure that can hold multiple values."
      ],
      "metadata": {
        "id": "k9DPNkS-ybKG"
      }
    },
    {
      "cell_type": "code",
      "source": [
        "def return_multiple_values():\n",
        "    value1 = 10\n",
        "    value2 = \"Hello World\"\n",
        "    value3 = [1, 2, 3]\n",
        "\n",
        "    return value1, value2, value3\n",
        "\n",
        "result = return_multiple_values() # This will return a tuple with all the vlaues\n",
        "print(result)"
      ],
      "metadata": {
        "colab": {
          "base_uri": "https://localhost:8080/"
        },
        "id": "KMgj4UfOz0xT",
        "outputId": "590eb004-7bbf-4bb5-82b7-35e834244154"
      },
      "execution_count": 1,
      "outputs": [
        {
          "output_type": "stream",
          "name": "stdout",
          "text": [
            "(10, 'Hello World', [1, 2, 3])\n"
          ]
        }
      ]
    },
    {
      "cell_type": "markdown",
      "source": [
        "**7. What is the difference between the \"pass by value\" and \"pass by reference\" concepts when it comes to function arguments in Python?**\n",
        "\n",
        "**Immutable Objects (Pass by Value):**\n",
        "\n",
        "When we pass immutable objects (integers, strings, tuples, etc.) as function arguments, the function operates on a local copy of the object. Any modifications made within the function do not affect the original object in the calling code.\n",
        "\n",
        "**Mutable Objects (Pass by Reference):**\n",
        "\n",
        "When we pass mutable objects (lists, dictionaries, objects, etc.) as function arguments, changes made to the object within the function affect the original object outside the function."
      ],
      "metadata": {
        "id": "Gt77MqGg1SYA"
      }
    },
    {
      "cell_type": "code",
      "source": [
        "def modify_immutable(x):\n",
        "    x = 42  # This creates a new local reference to the integer 42\n",
        "value = 10\n",
        "modify_immutable(value)\n",
        "print(value)  # This will still print: 10, not 42\n",
        "\n",
        "def modify_list(my_list):\n",
        "    my_list.append(42)\n",
        "my_list = [1, 2, 3]\n",
        "modify_list(my_list)\n",
        "print(my_list)  # This will print: [1, 2, 3, 42]"
      ],
      "metadata": {
        "colab": {
          "base_uri": "https://localhost:8080/"
        },
        "id": "1WfWZQm_3ihR",
        "outputId": "57be1e9b-01f9-4495-f4b3-7b597d520002"
      },
      "execution_count": 2,
      "outputs": [
        {
          "output_type": "stream",
          "name": "stdout",
          "text": [
            "10\n",
            "[1, 2, 3, 42]\n"
          ]
        }
      ]
    },
    {
      "cell_type": "markdown",
      "source": [
        "**8. Create a function that can intake integer or decimal value and do following operations:**\n",
        "\n",
        "**a. Logarithmic function (log x)**\n",
        "\n",
        "**b. Exponential function (exp(x))**\n",
        "\n",
        "**c. Power function with base 2 (2^x)**\n",
        "\n",
        "**d. Square root**"
      ],
      "metadata": {
        "id": "h5tgd-oN3q0F"
      }
    },
    {
      "cell_type": "code",
      "source": [
        "import math\n",
        "\n",
        "def math_operations(x):\n",
        "    # Logarithmic function (log x)\n",
        "    log_result = math.log(x)\n",
        "\n",
        "    # Exponential function (exp(x))\n",
        "    exp_result = math.exp(x)\n",
        "\n",
        "    # Power function with base 2 (2^x)\n",
        "    power_result = math.pow(2, x)\n",
        "\n",
        "    # Square root\n",
        "    sqrt_result = math.sqrt(x)\n",
        "\n",
        "    return log_result, exp_result, power_result, sqrt_result\n",
        "\n",
        "input_value = int(input(\"Enter a value: \"))\n",
        "log_result, exp_result, power_result, sqrt_result = math_operations(input_value)\n",
        "\n",
        "print(f\"Logarithmic function (log {input_value}): {log_result}\")\n",
        "print(f\"Exponential function (exp({input_value})): {exp_result}\")\n",
        "print(f\"Power function with base 2 (2^{input_value}): {power_result}\")\n",
        "print(f\"Square root of {input_value}: {sqrt_result}\")"
      ],
      "metadata": {
        "colab": {
          "base_uri": "https://localhost:8080/"
        },
        "id": "Y__zzGjo3_Zc",
        "outputId": "6bdfde2e-7ff1-4bcb-ff71-8a293f17acc7"
      },
      "execution_count": 3,
      "outputs": [
        {
          "output_type": "stream",
          "name": "stdout",
          "text": [
            "Enter a value: 4\n",
            "Logarithmic function (log 4): 1.3862943611198906\n",
            "Exponential function (exp(4)): 54.598150033144236\n",
            "Power function with base 2 (2^4): 16.0\n",
            "Square root of 4: 2.0\n"
          ]
        }
      ]
    },
    {
      "cell_type": "markdown",
      "source": [
        "**9. Create a function that takes a full name as an argument and returns first name and last name.**"
      ],
      "metadata": {
        "id": "G2pqwrF_4YeI"
      }
    },
    {
      "cell_type": "code",
      "source": [
        "def split_full_name(name):\n",
        "  return name.split()\n",
        "name = input(\"Enter full name: \")\n",
        "firstName, lastName = split_full_name(name)\n",
        "print(f\"First name: {firstName}\")\n",
        "print(f\"Last name: {lastName}\")"
      ],
      "metadata": {
        "colab": {
          "base_uri": "https://localhost:8080/"
        },
        "id": "B_PL2GGT4eK5",
        "outputId": "6716e541-09d8-48aa-aaad-938dfa853f16"
      },
      "execution_count": 6,
      "outputs": [
        {
          "output_type": "stream",
          "name": "stdout",
          "text": [
            "Enter full name: Ashif Khan\n",
            "First name: Ashif\n",
            "Last name: Khan\n"
          ]
        }
      ]
    }
  ]
}