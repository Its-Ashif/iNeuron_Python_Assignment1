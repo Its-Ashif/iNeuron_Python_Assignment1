{
  "nbformat": 4,
  "nbformat_minor": 0,
  "metadata": {
    "colab": {
      "provenance": []
    },
    "kernelspec": {
      "name": "python3",
      "display_name": "Python 3"
    },
    "language_info": {
      "name": "python"
    }
  },
  "cells": [
    {
      "cell_type": "markdown",
      "source": [
        "# **Python Basic Assignment 3**"
      ],
      "metadata": {
        "id": "KDBN3j8Sgwtl"
      }
    },
    {
      "cell_type": "markdown",
      "source": [
        "**1. Why are functions advantageous to have in your programs?**\n",
        "\n",
        "Functions reduce the need for duplicate code. This makes programs shorter, easier to read, and easier to update."
      ],
      "metadata": {
        "id": "LEr62q_2g2JQ"
      }
    },
    {
      "cell_type": "markdown",
      "source": [
        "**2. When does the code in a function run: when it's specified or when it's called?**\n",
        "\n",
        "Code in the function runs when the function is called"
      ],
      "metadata": {
        "id": "yV3mfj_OhVn1"
      }
    },
    {
      "cell_type": "code",
      "execution_count": 1,
      "metadata": {
        "colab": {
          "base_uri": "https://localhost:8080/"
        },
        "id": "NZdBOoHGgf1N",
        "outputId": "726d082e-d4ba-4c2f-c028-3b75e95b746c"
      },
      "outputs": [
        {
          "output_type": "stream",
          "name": "stdout",
          "text": [
            "5\n"
          ]
        }
      ],
      "source": [
        "def sum(a,b):\n",
        "  print(a+b)\n",
        "\n",
        "sum(2,3) #here we call the fuction and then the function shows the sum"
      ]
    },
    {
      "cell_type": "markdown",
      "source": [
        "**3. What statement creates a function?**\n",
        "\n",
        "we create a function using the \"def\" statement."
      ],
      "metadata": {
        "id": "CoWIuPviiJf9"
      }
    },
    {
      "cell_type": "code",
      "source": [
        "def my_func(s):\n",
        "  print(s)\n",
        "\n",
        "my_func(\"Hello\")"
      ],
      "metadata": {
        "colab": {
          "base_uri": "https://localhost:8080/"
        },
        "id": "M5wfpuo5ihF-",
        "outputId": "9d0d43d6-8a7d-49b4-b0df-7becac067770"
      },
      "execution_count": 2,
      "outputs": [
        {
          "output_type": "stream",
          "name": "stdout",
          "text": [
            "Hello\n"
          ]
        }
      ]
    },
    {
      "cell_type": "markdown",
      "source": [
        "**4. What is the difference between a function and a function call?**\n",
        "\n",
        "A function is a reusable block of code that performs a specific task or set of tasks when invoked.\n",
        "\n",
        "A function call is the act of executing a function to perform its defined task."
      ],
      "metadata": {
        "id": "k09Jg9Z5-Krh"
      }
    },
    {
      "cell_type": "code",
      "source": [
        "def my_func():   # this is function\n",
        "  print(\"This is a function\")\n",
        "\n",
        "my_func() #this is function call"
      ],
      "metadata": {
        "colab": {
          "base_uri": "https://localhost:8080/"
        },
        "id": "NtM54wrk-jwJ",
        "outputId": "9c4f118d-1fa8-46b9-e6b8-8c4ce6d09f55"
      },
      "execution_count": 3,
      "outputs": [
        {
          "output_type": "stream",
          "name": "stdout",
          "text": [
            "This is a function\n"
          ]
        }
      ]
    },
    {
      "cell_type": "markdown",
      "source": [
        "**5. How many global scopes are there in a Python program? How many local scopes?**\n",
        "\n",
        "There is only one global scope per program execution for Python. This scope remains in existence until the program terminates.\n",
        "\n",
        "A local scope is created whenever a function is called.\n",
        "\n",
        "So, the number of local scopes in a Python program depends on how many functions or code blocks have been executed, whereas there is always one global scope throughout the entire program.\n"
      ],
      "metadata": {
        "id": "fHMngExQ-0G7"
      }
    },
    {
      "cell_type": "markdown",
      "source": [
        "**6. What happens to variables in a local scope when the function call returns?**\n",
        "\n",
        "When a function call returns, the local scope associated with that function is destroyed, and the variables defined within that local scope go out of scope."
      ],
      "metadata": {
        "id": "4CdcQeeYF65V"
      }
    },
    {
      "cell_type": "markdown",
      "source": [
        "**7. What is the concept of a return value? Is it possible to have a return value in an expression?**\n",
        "\n",
        "\n",
        " Return value is the value that a function can give back as a result when it is called and executed.\n",
        "\n",
        " Like any value, a return value can be used as part of an expression."
      ],
      "metadata": {
        "id": "98egNbCTGWap"
      }
    },
    {
      "cell_type": "code",
      "source": [
        "def add_numbers(a, b):\n",
        "    return a + b\n",
        "\n",
        "result = add_numbers(5, 3) * 2  # Using return value in an expression"
      ],
      "metadata": {
        "id": "D9LDSYIjHDOA"
      },
      "execution_count": 4,
      "outputs": []
    },
    {
      "cell_type": "markdown",
      "source": [
        "**8. If a function does not have a return statement, what is the return value of a call to that function?**\n",
        "\n",
        "If a function does not have a return statement, the function will return None."
      ],
      "metadata": {
        "id": "kHrAQC-gHMB3"
      }
    },
    {
      "cell_type": "code",
      "source": [
        "def no_return_function():\n",
        "  pass\n",
        "  # This function does not have a return statement\n",
        "\n",
        "result = no_return_function()\n",
        "\n",
        "print(result)  # This will output 'None'"
      ],
      "metadata": {
        "colab": {
          "base_uri": "https://localhost:8080/"
        },
        "id": "GEKaIDJeHqjU",
        "outputId": "fe4a1ec8-1efb-4fd6-eb7f-2008da1aefcc"
      },
      "execution_count": 7,
      "outputs": [
        {
          "output_type": "stream",
          "name": "stdout",
          "text": [
            "None\n"
          ]
        }
      ]
    },
    {
      "cell_type": "markdown",
      "source": [
        "**9. How do you make a function variable refer to the global variable?**\n",
        "\n",
        "To make function variable as a global variable we can use the global keyword to declare which variables are global."
      ],
      "metadata": {
        "id": "Rw8yNWsMICwJ"
      }
    },
    {
      "cell_type": "code",
      "source": [
        "global_var = 10  # This is a global variable\n",
        "\n",
        "def access_global_variable():\n",
        "    global global_var  # Declare that we want to use the global variable\n",
        "    print(global_var)  # Access the global variable\n",
        "\n",
        "access_global_variable()\n"
      ],
      "metadata": {
        "colab": {
          "base_uri": "https://localhost:8080/"
        },
        "id": "ugPDSP3oIU6Y",
        "outputId": "a61c1c1a-0cb1-4dc4-ea68-4a28a588b9cc"
      },
      "execution_count": 8,
      "outputs": [
        {
          "output_type": "stream",
          "name": "stdout",
          "text": [
            "10\n"
          ]
        }
      ]
    },
    {
      "cell_type": "markdown",
      "source": [
        "**10. What is the data type of None?**\n",
        "\n",
        "None is a special built-in constant object that represents the absence of a value or the lack of a specific value. It is often used to indicate that a variable or function does not return a meaningful result."
      ],
      "metadata": {
        "id": "K7rBGaGmIbDd"
      }
    },
    {
      "cell_type": "markdown",
      "source": [
        "**11. What does the sentence import areallyourpetsnamederic do?**\n",
        "\n",
        "That import statement imports a module named areallyourpetsnamederic. (But a module of this name doesnt exists in Python)"
      ],
      "metadata": {
        "id": "ImBNE4gUIo0h"
      }
    },
    {
      "cell_type": "code",
      "source": [
        "import areallyourpetsnamederic\n"
      ],
      "metadata": {
        "colab": {
          "base_uri": "https://localhost:8080/",
          "height": 314
        },
        "id": "iONl8R14I4PB",
        "outputId": "d0bc86bf-ed97-41a9-cf7a-3b33acea02c4"
      },
      "execution_count": 9,
      "outputs": [
        {
          "output_type": "error",
          "ename": "ModuleNotFoundError",
          "evalue": "ignored",
          "traceback": [
            "\u001b[0;31m---------------------------------------------------------------------------\u001b[0m",
            "\u001b[0;31mModuleNotFoundError\u001b[0m                       Traceback (most recent call last)",
            "\u001b[0;32m<ipython-input-9-b1ea9cb2228f>\u001b[0m in \u001b[0;36m<cell line: 1>\u001b[0;34m()\u001b[0m\n\u001b[0;32m----> 1\u001b[0;31m \u001b[0;32mimport\u001b[0m \u001b[0mareallyourpetsnamederic\u001b[0m\u001b[0;34m\u001b[0m\u001b[0;34m\u001b[0m\u001b[0m\n\u001b[0m",
            "\u001b[0;31mModuleNotFoundError\u001b[0m: No module named 'areallyourpetsnamederic'",
            "",
            "\u001b[0;31m---------------------------------------------------------------------------\u001b[0;32m\nNOTE: If your import is failing due to a missing package, you can\nmanually install dependencies using either !pip or !apt.\n\nTo view examples of installing some common dependencies, click the\n\"Open Examples\" button below.\n\u001b[0;31m---------------------------------------------------------------------------\u001b[0m\n"
          ],
          "errorDetails": {
            "actions": [
              {
                "action": "open_url",
                "actionText": "Open Examples",
                "url": "/notebooks/snippets/importing_libraries.ipynb"
              }
            ]
          }
        }
      ]
    },
    {
      "cell_type": "markdown",
      "source": [
        "**12. If you had a bacon() feature in a spam module, what would you call it after importing spam?**\n",
        "\n",
        "import spam  <br>\n",
        "spam.bacon()"
      ],
      "metadata": {
        "id": "r_OsvrC-JDAW"
      }
    },
    {
      "cell_type": "markdown",
      "source": [
        "**13. What can you do to save a programme from crashing if it encounters an error?**\n",
        "\n",
        " We can use try except clause to save a program from crashing."
      ],
      "metadata": {
        "id": "235sAjAWJOQp"
      }
    },
    {
      "cell_type": "markdown",
      "source": [
        "**14. What is the purpose of the try clause? What is the purpose of the except clause?**\n",
        "\n",
        "The try and except clauses are used to handle exceptions, which are runtime errors or unexpected events that can occur during the execution of a program.\n",
        "\n",
        "The try clause is used to enclose the code that might raise an exception or error.\n",
        "\n",
        "The except clause is used to specify what actions to take when a specific exception is raised within the try block."
      ],
      "metadata": {
        "id": "UPTP0KmpJUoO"
      }
    },
    {
      "cell_type": "code",
      "source": [
        "try:\n",
        "    result = 5 / 0  # This will raise a ZeroDivisionError\n",
        "except ZeroDivisionError:\n",
        "    print(\"Division by zero is not allowed.\")\n"
      ],
      "metadata": {
        "colab": {
          "base_uri": "https://localhost:8080/"
        },
        "id": "og6oqRqIJryb",
        "outputId": "6a5db6f3-53a8-4f69-f00f-bd99566927e7"
      },
      "execution_count": 10,
      "outputs": [
        {
          "output_type": "stream",
          "name": "stdout",
          "text": [
            "Division by zero is not allowed.\n"
          ]
        }
      ]
    }
  ]
}