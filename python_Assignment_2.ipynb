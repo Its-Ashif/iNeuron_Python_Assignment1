{
  "nbformat": 4,
  "nbformat_minor": 0,
  "metadata": {
    "colab": {
      "provenance": []
    },
    "kernelspec": {
      "name": "python3",
      "display_name": "Python 3"
    },
    "language_info": {
      "name": "python"
    }
  },
  "cells": [
    {
      "cell_type": "markdown",
      "source": [
        "# **Python Basic Assignment 2**"
      ],
      "metadata": {
        "id": "qCS2ksbhSDZI"
      }
    },
    {
      "cell_type": "markdown",
      "source": [
        "**1.What are the two values of the Boolean data type? How do you write them?**\n",
        "\n",
        "The two values of the boolean data type are true and false.\n",
        "\n",
        "we can write them like following -"
      ],
      "metadata": {
        "id": "WgIybKxKS0y8"
      }
    },
    {
      "cell_type": "code",
      "execution_count": null,
      "metadata": {
        "colab": {
          "base_uri": "https://localhost:8080/"
        },
        "id": "3f0WDdlLSLq6",
        "outputId": "2bfff4dd-7620-4a52-c618-7d2537506f1d"
      },
      "outputs": [
        {
          "output_type": "stream",
          "name": "stdout",
          "text": [
            "True\n",
            "False\n"
          ]
        }
      ],
      "source": [
        "a = True\n",
        "b = False\n",
        "print(a)\n",
        "print(b)"
      ]
    },
    {
      "cell_type": "markdown",
      "source": [
        "**2. What are the three different types of Boolean operators?**\n",
        "\n",
        "Three most popular boolean operators are  followings -\n",
        "\n",
        "i. AND operator - it returns true only if both of the operands are true. Otherwise it returns false.\n",
        "\n",
        "ii. OR operator - it return true if atleast one of the operands is true. Otherwise it returns false.\n",
        "\n",
        "iii. NOT operator - it returns true if the operand is false and returns false if the operand is true."
      ],
      "metadata": {
        "id": "JNorFLolS4wh"
      }
    },
    {
      "cell_type": "code",
      "source": [
        "a = True\n",
        "b = True\n",
        "print(a and b)\n",
        "b = False\n",
        "print(a or b)\n",
        "print(not a)"
      ],
      "metadata": {
        "colab": {
          "base_uri": "https://localhost:8080/"
        },
        "id": "19VAp95YTPX2",
        "outputId": "43c26d01-9b33-46c1-c449-da37b8d539f8"
      },
      "execution_count": null,
      "outputs": [
        {
          "output_type": "stream",
          "name": "stdout",
          "text": [
            "True\n",
            "True\n",
            "False\n"
          ]
        }
      ]
    },
    {
      "cell_type": "markdown",
      "source": [
        "**3. Make a list of each Boolean operator's truth tables (i.e. every possible combination of Boolean values for the operator and what it evaluate).**\n",
        "\n",
        "i. AND operator -\n",
        "\n",
        "     a    b    output\n",
        "     0    0      0\n",
        "     0    1      0\n",
        "     1    0      0\n",
        "     1    1      1\n",
        "\n",
        "ii. OR operator -\n",
        "\n",
        "     a    b    output\n",
        "     0    0      0\n",
        "     0    1      1\n",
        "     1    0      1\n",
        "     1    1      1\n",
        "\n",
        "iii. NOT operator -\n",
        "\n",
        "     a   output\n",
        "     0     1\n",
        "     1     0"
      ],
      "metadata": {
        "id": "vbLSD-UdS8HO"
      }
    },
    {
      "cell_type": "markdown",
      "source": [
        "**4. What are the values of the following expressions?**\n",
        "\n",
        "(5 > 4) and (3 == 5)             --------->   **False** <br>\n",
        "not (5 > 4)                      --------->   **False** <br>\n",
        "(5 > 4) or (3 == 5)              --------->   **True**  <br>\n",
        "not ((5 > 4) or (3 == 5))        --------->   **False** <br>\n",
        "(True and True) and (True == False)  ----->   **False** <br>\n",
        "(not False) or (not True)        --------->   **True**  <br>"
      ],
      "metadata": {
        "id": "KWU7erHzTEVy"
      }
    },
    {
      "cell_type": "markdown",
      "source": [
        "**5. What are the six comparison operators?**\n",
        "\n",
        "The six operators are following -\n",
        "\n",
        "i.  ( == )  checks if two values are equal and returns true or false accordingly.\n",
        "\n",
        "ii. ( != )  checks if two values are not equal and returns true or false accordingly.\n",
        "\n",
        "iii. ( > )  checks if the left operand is greater than the right operand and returns true or false accordingly.\n",
        "\n",
        "iv. ( < )   checks if the left operand is less than the right operand and returns true or false accordingly.\n",
        "\n",
        "v. ( >= )   checks if the left operand is greater than or equal to the right operand and returns true or false accordingly.\n",
        "\n",
        "vi. ( <= )  checks if the left operand is less than or equal to the right operand and returns true or false accordingly."
      ],
      "metadata": {
        "id": "a8Kxc8ywTeIT"
      }
    },
    {
      "cell_type": "code",
      "source": [
        "a = 5\n",
        "b = 5\n",
        "print( a == b)\n",
        "print( a != b)\n",
        "a = 10\n",
        "print( a > b )\n",
        "print( a < b )\n",
        "a=5\n",
        "print( a >= b )\n",
        "print( a <= b )"
      ],
      "metadata": {
        "colab": {
          "base_uri": "https://localhost:8080/"
        },
        "id": "inIkVqnyWrUt",
        "outputId": "31876b06-3b4b-48f9-bd5c-7edf9ddc3192"
      },
      "execution_count": null,
      "outputs": [
        {
          "output_type": "stream",
          "name": "stdout",
          "text": [
            "True\n",
            "False\n",
            "True\n",
            "False\n",
            "True\n",
            "True\n"
          ]
        }
      ]
    },
    {
      "cell_type": "markdown",
      "source": [
        "**6. How do you tell the difference between the equal to and assignment operators? Describe a condition and when you would use one.**\n",
        "\n",
        "Equal to operator (==) is used to compare two values to check if they are equal or not and return true or false values accordingly.\n",
        "\n",
        "On the other hand, assignment operator (=) is used to assign a value to a variable.\n",
        "\n",
        "We can use the equal to operator when we want to compare two values.\n",
        "\n",
        "We can use assignment operator when we want to assign a value to a variable."
      ],
      "metadata": {
        "id": "B4N7h6cVThTj"
      }
    },
    {
      "cell_type": "code",
      "source": [
        "a = 5 # Assigning value 5 to variable a\n",
        "b = 5 # Assigning value 5 to variable b\n",
        "if a == b: # Comparing values of a and b\n",
        "  print(\"a and b are equal\")"
      ],
      "metadata": {
        "colab": {
          "base_uri": "https://localhost:8080/"
        },
        "id": "5-wZZU22ZSle",
        "outputId": "5477cb3a-7e35-4459-9323-4948b8af0639"
      },
      "execution_count": null,
      "outputs": [
        {
          "output_type": "stream",
          "name": "stdout",
          "text": [
            "a and b are equal\n"
          ]
        }
      ]
    },
    {
      "cell_type": "markdown",
      "source": [
        "**7. Identify the three blocks in this code:**\n",
        "spam = 0   <br>\n",
        "if spam == 10:<br>\n",
        "print('eggs')<br>\n",
        "if spam > 5:<br>\n",
        "print('bacon')<br>\n",
        "else:<br>\n",
        "print('ham')<br>\n",
        "print('spam')<br>\n",
        "print('spam')<br>\n",
        "\n",
        "The three blocks in this code are -\n",
        "\n",
        "i. The first if statement -><br>\n",
        "   if spam == 10:<br>\n",
        "       print('eggs')<br>\n",
        "\n",
        "ii. The second if statement -><br>\n",
        "   if spam > 5:<br>\n",
        "       print('bacon')<br>\n",
        "\n",
        "iii. The else statement -><br>\n",
        "   else:<br>\n",
        "       print('ham')<br>"
      ],
      "metadata": {
        "id": "aypxiYTHTkl7"
      }
    },
    {
      "cell_type": "markdown",
      "source": [
        "**8. Write code that prints Hello if 1 is stored in spam, prints Howdy if 2 is stored in spam, and prints Greetings! if anything else is stored in spam.**"
      ],
      "metadata": {
        "id": "WLUQq4yiT4V-"
      }
    },
    {
      "cell_type": "code",
      "source": [
        "spam = int(input(\"Enter value for spam: \"))\n",
        "if spam == 1:\n",
        "  print('Hello')\n",
        "elif spam == 2:\n",
        "  print('Howdy')\n",
        "else:\n",
        "  print('Greetings!')"
      ],
      "metadata": {
        "colab": {
          "base_uri": "https://localhost:8080/"
        },
        "id": "Upmalx1neu8f",
        "outputId": "24c4bb9a-dfec-4100-97d2-c747d16a6a27"
      },
      "execution_count": null,
      "outputs": [
        {
          "output_type": "stream",
          "name": "stdout",
          "text": [
            "Enter value for spam: 2\n",
            "Howdy\n"
          ]
        }
      ]
    },
    {
      "cell_type": "markdown",
      "source": [
        "**9.If your programme is stuck in an endless loop, what keys you’ll press?**\n",
        "\n",
        "we should press Ctrl + C to stop an endless loop."
      ],
      "metadata": {
        "id": "wZuGYnhDT7nq"
      }
    },
    {
      "cell_type": "markdown",
      "source": [
        "**10. How can you tell the difference between break and continue?**\n",
        "\n",
        "break: break is used to exit a loop prematurely when a certain condition is met.\n",
        "\n",
        "continue: continue is used to skip the current iteration of a loop when a certain condition is met."
      ],
      "metadata": {
        "id": "iSHKNBumT_Xb"
      }
    },
    {
      "cell_type": "code",
      "source": [
        "for i in range(1, 6):\n",
        "    if i == 3:\n",
        "        break  # Exit the loop when i is equal to 3\n",
        "    print(i)\n",
        "\n",
        "print();print()\n",
        "\n",
        "for i in range(1, 6):\n",
        "    if i == 3:\n",
        "        continue  # Skip the current iteration when i is equal to 3\n",
        "    print(i)\n"
      ],
      "metadata": {
        "colab": {
          "base_uri": "https://localhost:8080/"
        },
        "id": "7Iq72K89gHSJ",
        "outputId": "5c0b76d1-ab57-47fa-fe37-f44d4527ac47"
      },
      "execution_count": null,
      "outputs": [
        {
          "output_type": "stream",
          "name": "stdout",
          "text": [
            "1\n",
            "2\n",
            "\n",
            "\n",
            "1\n",
            "2\n",
            "4\n",
            "5\n"
          ]
        }
      ]
    },
    {
      "cell_type": "markdown",
      "source": [
        "**11. In a for loop, what is the difference between range(10), range(0, 10), and range(0, 10, 1)?**\n",
        "\n",
        "range(10) generates a sequence of numbers from 0 to 9 with step 1 as default\n",
        "\n",
        "range(0,10) generates a sequence of numbers from 0 to 9 with step 1 as default\n",
        "\n",
        "range(0,10,1) generates a sequence of numbers from 0 to 9 with step 1 given in code"
      ],
      "metadata": {
        "id": "KexZzoQGUCq7"
      }
    },
    {
      "cell_type": "code",
      "source": [
        "for i in range(10):\n",
        "    print(i)\n",
        "\n",
        "print();print()\n",
        "\n",
        "\n",
        "for i in range(0, 10):\n",
        "    print(i)\n",
        "\n",
        "print();print()\n",
        "\n",
        "for i in range(0, 10, 1):\n",
        "    print(i)"
      ],
      "metadata": {
        "colab": {
          "base_uri": "https://localhost:8080/"
        },
        "id": "if51u36QiJqV",
        "outputId": "68468d2a-61d5-403f-caa1-7bcc9ce31956"
      },
      "execution_count": null,
      "outputs": [
        {
          "output_type": "stream",
          "name": "stdout",
          "text": [
            "0\n",
            "1\n",
            "2\n",
            "3\n",
            "4\n",
            "5\n",
            "6\n",
            "7\n",
            "8\n",
            "9\n",
            "\n",
            "\n",
            "0\n",
            "1\n",
            "2\n",
            "3\n",
            "4\n",
            "5\n",
            "6\n",
            "7\n",
            "8\n",
            "9\n",
            "\n",
            "\n",
            "0\n",
            "1\n",
            "2\n",
            "3\n",
            "4\n",
            "5\n",
            "6\n",
            "7\n",
            "8\n",
            "9\n"
          ]
        }
      ]
    },
    {
      "cell_type": "markdown",
      "source": [
        "**12. Write a short program that prints the numbers 1 to 10 using a for loop. Then write an equivalent program that prints the numbers 1 to 10 using a while loop.**"
      ],
      "metadata": {
        "id": "YhoBSmjzUGkj"
      }
    },
    {
      "cell_type": "code",
      "source": [
        "for i in range(1,11):\n",
        "  print(i)\n",
        "\n",
        "print();print()\n",
        "\n",
        "i = 1\n",
        "while(i<=10):\n",
        "  print(i)\n",
        "  i+=1"
      ],
      "metadata": {
        "colab": {
          "base_uri": "https://localhost:8080/"
        },
        "id": "PrSStCGGkxt0",
        "outputId": "9fa2984a-ad44-4d42-b665-238d36047241"
      },
      "execution_count": null,
      "outputs": [
        {
          "output_type": "stream",
          "name": "stdout",
          "text": [
            "1\n",
            "2\n",
            "3\n",
            "4\n",
            "5\n",
            "6\n",
            "7\n",
            "8\n",
            "9\n",
            "10\n",
            "\n",
            "\n",
            "1\n",
            "2\n",
            "3\n",
            "4\n",
            "5\n",
            "6\n",
            "7\n",
            "8\n",
            "9\n",
            "10\n"
          ]
        }
      ]
    },
    {
      "cell_type": "markdown",
      "source": [
        "**13. If you had a function named bacon() inside a module named spam, how would you call it after importing spam?**\n",
        "\n",
        "We can call with the following code ->\n",
        "\n",
        "import spam\n",
        "\n",
        "result = spam.bacon()"
      ],
      "metadata": {
        "id": "4gHMXbktUQfx"
      }
    }
  ]
}