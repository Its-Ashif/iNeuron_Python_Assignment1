{
  "nbformat": 4,
  "nbformat_minor": 0,
  "metadata": {
    "colab": {
      "provenance": []
    },
    "kernelspec": {
      "name": "python3",
      "display_name": "Python 3"
    },
    "language_info": {
      "name": "python"
    }
  },
  "cells": [
    {
      "cell_type": "markdown",
      "source": [
        "# **Python Basic Assignment 5**"
      ],
      "metadata": {
        "id": "vQTD_8RyOI0s"
      }
    },
    {
      "cell_type": "markdown",
      "source": [
        "**1.What does an empty dictionary's code look like?**\n",
        "\n",
        "An empty dictionary is often represented by two empty curly brackets\n",
        "\n",
        "d = {} or d = dict()"
      ],
      "metadata": {
        "id": "P4XS-o8OA7hT"
      }
    },
    {
      "cell_type": "markdown",
      "source": [
        "**2.what is the value of dictionary value with key 'foo' and the value 42 ?**\n",
        "\n",
        "{ 'foo' : 42 }"
      ],
      "metadata": {
        "id": "DssAdWMYBBq5"
      }
    },
    {
      "cell_type": "code",
      "execution_count": 1,
      "metadata": {
        "colab": {
          "base_uri": "https://localhost:8080/"
        },
        "id": "N4Hvs3pOAsBR",
        "outputId": "82ef7b04-106b-498e-c91c-5b7569d352a4"
      },
      "outputs": [
        {
          "output_type": "stream",
          "name": "stdout",
          "text": [
            "42\n"
          ]
        }
      ],
      "source": [
        "my_dict = {'foo': 42}\n",
        "value = my_dict['foo']\n",
        "print(value)"
      ]
    },
    {
      "cell_type": "markdown",
      "source": [
        "**3.What is the most significant distinction between a dictionary and a list?**\n",
        "\n",
        "Dictionaries are represented by { } where as listed are represented by [ ]\n",
        "\n",
        "The Items stored in a dictionary are unordered while the items in a list are ordered"
      ],
      "metadata": {
        "id": "V9RE0x5FBVjX"
      }
    },
    {
      "cell_type": "markdown",
      "source": [
        "**4.What happens if you try to access spam ['foo'] if spam is {'bar':100} ?**\n",
        "\n",
        "we will get a keyError KeyError: 'foo'"
      ],
      "metadata": {
        "id": "qiKrP6zeBlFx"
      }
    },
    {
      "cell_type": "code",
      "source": [
        "my_dict = {'bar':100}\n",
        "print(my_dict['foo'])"
      ],
      "metadata": {
        "colab": {
          "base_uri": "https://localhost:8080/",
          "height": 193
        },
        "id": "0yg5jCprBr4f",
        "outputId": "c66829b9-f32c-445e-f4ab-8db5094f8c1a"
      },
      "execution_count": 2,
      "outputs": [
        {
          "output_type": "error",
          "ename": "KeyError",
          "evalue": "ignored",
          "traceback": [
            "\u001b[0;31m---------------------------------------------------------------------------\u001b[0m",
            "\u001b[0;31mKeyError\u001b[0m                                  Traceback (most recent call last)",
            "\u001b[0;32m<ipython-input-2-89e14aa0a55d>\u001b[0m in \u001b[0;36m<cell line: 2>\u001b[0;34m()\u001b[0m\n\u001b[1;32m      1\u001b[0m \u001b[0mmy_dict\u001b[0m \u001b[0;34m=\u001b[0m \u001b[0;34m{\u001b[0m\u001b[0;34m'bar'\u001b[0m\u001b[0;34m:\u001b[0m\u001b[0;36m100\u001b[0m\u001b[0;34m}\u001b[0m\u001b[0;34m\u001b[0m\u001b[0;34m\u001b[0m\u001b[0m\n\u001b[0;32m----> 2\u001b[0;31m \u001b[0mprint\u001b[0m\u001b[0;34m(\u001b[0m\u001b[0mmy_dict\u001b[0m\u001b[0;34m[\u001b[0m\u001b[0;34m'foo'\u001b[0m\u001b[0;34m]\u001b[0m\u001b[0;34m)\u001b[0m\u001b[0;34m\u001b[0m\u001b[0;34m\u001b[0m\u001b[0m\n\u001b[0m",
            "\u001b[0;31mKeyError\u001b[0m: 'foo'"
          ]
        }
      ]
    },
    {
      "cell_type": "markdown",
      "source": [
        "**5. If a dictionary is stored in spam,what is the difference between the expressions 'cat' in spam and 'cat' in spam.keys() ?**\n",
        "\n",
        "There is no difference . The operator checks whether a value exits as a key in the dictionary or not"
      ],
      "metadata": {
        "id": "POSPDNCIB03h"
      }
    },
    {
      "cell_type": "markdown",
      "source": [
        "**6. if a dictionary is stored in spam,what is the difference between the expressions 'cat' in spam and 'cat' in spam.values() ?**\n",
        "\n",
        "'cat' in spam checks whether there is a 'cat' key in the dictionary,\n",
        "\n",
        "while 'cat' in spam.values() checks whether there is a value 'cat' for one of the keys in spam."
      ],
      "metadata": {
        "id": "WNkDg5tXB-uK"
      }
    },
    {
      "cell_type": "markdown",
      "source": [
        "**7.what is a shortcut for the following code ?**\n",
        "\n",
        "**if 'color' not in spam:**\n",
        "\n",
        "**spam['color'] ='black'**\n",
        "\n",
        "spam.setdefault('color','black')"
      ],
      "metadata": {
        "id": "xYbvSxDwCMaC"
      }
    },
    {
      "cell_type": "code",
      "source": [
        "spam = {'model':'Iphone 15'}\n",
        "print(spam)\n",
        "spam.setdefault('color','black')\n",
        "print(spam)"
      ],
      "metadata": {
        "colab": {
          "base_uri": "https://localhost:8080/"
        },
        "id": "rw2FfXJiCaNk",
        "outputId": "7c3595f0-a891-4c99-ef66-d154328639ad"
      },
      "execution_count": 3,
      "outputs": [
        {
          "output_type": "stream",
          "name": "stdout",
          "text": [
            "{'model': 'Iphone 15'}\n",
            "{'model': 'Iphone 15', 'color': 'black'}\n"
          ]
        }
      ]
    },
    {
      "cell_type": "markdown",
      "source": [
        "**8.How do you 'pretty print' dictionary values using which modules and function ?**\n",
        "\n",
        "we can pretty print a dictionary using three functions\n",
        "\n",
        "i)  by using pprint() function of pprint module\n",
        "\n",
        "ii) by using dumps() method of json module\n",
        "\n",
        "iii) by using dump() method of yaml module"
      ],
      "metadata": {
        "id": "hIJq-QxOCmF_"
      }
    },
    {
      "cell_type": "code",
      "source": [
        "ndict = [\n",
        "  {'Name': 'John', 'Age': '23', 'Residence': {'Country':'USA', 'City': 'New York'}},\n",
        "  {'Name': 'Jose', 'Age': '44', 'Residence': {'Country':'Spain', 'City': 'Madrid'}},\n",
        "  {'Name': 'Anne', 'Age': '29', 'Residence': {'Country':'UK', 'City': 'England'}},\n",
        "  {'Name': 'Lee', 'Age': '35', 'Residence': {'Country':'Japan', 'City': 'Osaka'}}\n",
        "]"
      ],
      "metadata": {
        "id": "mzZ84mQLC7Q5"
      },
      "execution_count": 5,
      "outputs": []
    },
    {
      "cell_type": "markdown",
      "source": [
        "**Printing using print() function**"
      ],
      "metadata": {
        "id": "b8VHb8cGDEdo"
      }
    },
    {
      "cell_type": "code",
      "source": [
        "import pprint\n",
        "pprint.pprint(ndict)"
      ],
      "metadata": {
        "colab": {
          "base_uri": "https://localhost:8080/"
        },
        "id": "ewbRir5cDKjc",
        "outputId": "739d7053-8f8e-46f8-a81d-9f24e8961d01"
      },
      "execution_count": 6,
      "outputs": [
        {
          "output_type": "stream",
          "name": "stdout",
          "text": [
            "[{'Age': '23',\n",
            "  'Name': 'John',\n",
            "  'Residence': {'City': 'New York', 'Country': 'USA'}},\n",
            " {'Age': '44',\n",
            "  'Name': 'Jose',\n",
            "  'Residence': {'City': 'Madrid', 'Country': 'Spain'}},\n",
            " {'Age': '29',\n",
            "  'Name': 'Anne',\n",
            "  'Residence': {'City': 'England', 'Country': 'UK'}},\n",
            " {'Age': '35',\n",
            "  'Name': 'Lee',\n",
            "  'Residence': {'City': 'Osaka', 'Country': 'Japan'}}]\n"
          ]
        }
      ]
    },
    {
      "cell_type": "markdown",
      "source": [
        "**Printing using dumps() method of json module**"
      ],
      "metadata": {
        "id": "mGeTR0XJDXv6"
      }
    },
    {
      "cell_type": "code",
      "source": [
        "import json\n",
        "dump = json.dumps(ndict, indent=4)\n",
        "print(dump)"
      ],
      "metadata": {
        "colab": {
          "base_uri": "https://localhost:8080/"
        },
        "id": "2oTSJy2iDnRZ",
        "outputId": "51aacfe5-2a11-4414-a013-ff51fe420c69"
      },
      "execution_count": 8,
      "outputs": [
        {
          "output_type": "stream",
          "name": "stdout",
          "text": [
            "[\n",
            "    {\n",
            "        \"Name\": \"John\",\n",
            "        \"Age\": \"23\",\n",
            "        \"Residence\": {\n",
            "            \"Country\": \"USA\",\n",
            "            \"City\": \"New York\"\n",
            "        }\n",
            "    },\n",
            "    {\n",
            "        \"Name\": \"Jose\",\n",
            "        \"Age\": \"44\",\n",
            "        \"Residence\": {\n",
            "            \"Country\": \"Spain\",\n",
            "            \"City\": \"Madrid\"\n",
            "        }\n",
            "    },\n",
            "    {\n",
            "        \"Name\": \"Anne\",\n",
            "        \"Age\": \"29\",\n",
            "        \"Residence\": {\n",
            "            \"Country\": \"UK\",\n",
            "            \"City\": \"England\"\n",
            "        }\n",
            "    },\n",
            "    {\n",
            "        \"Name\": \"Lee\",\n",
            "        \"Age\": \"35\",\n",
            "        \"Residence\": {\n",
            "            \"Country\": \"Japan\",\n",
            "            \"City\": \"Osaka\"\n",
            "        }\n",
            "    }\n",
            "]\n"
          ]
        }
      ]
    },
    {
      "cell_type": "markdown",
      "source": [
        "**Printing using dump() method of yaml module**"
      ],
      "metadata": {
        "id": "AKG-zZKjDwof"
      }
    },
    {
      "cell_type": "code",
      "source": [
        "import yaml\n",
        "dump = yaml.dump(ndict)\n",
        "print(dump)"
      ],
      "metadata": {
        "colab": {
          "base_uri": "https://localhost:8080/"
        },
        "id": "6vPzopcMD3V1",
        "outputId": "871c5cf9-d15e-41e5-c08b-dc8690168fa6"
      },
      "execution_count": 9,
      "outputs": [
        {
          "output_type": "stream",
          "name": "stdout",
          "text": [
            "- Age: '23'\n",
            "  Name: John\n",
            "  Residence:\n",
            "    City: New York\n",
            "    Country: USA\n",
            "- Age: '44'\n",
            "  Name: Jose\n",
            "  Residence:\n",
            "    City: Madrid\n",
            "    Country: Spain\n",
            "- Age: '29'\n",
            "  Name: Anne\n",
            "  Residence:\n",
            "    City: England\n",
            "    Country: UK\n",
            "- Age: '35'\n",
            "  Name: Lee\n",
            "  Residence:\n",
            "    City: Osaka\n",
            "    Country: Japan\n",
            "\n"
          ]
        }
      ]
    }
  ]
}