{
  "nbformat": 4,
  "nbformat_minor": 0,
  "metadata": {
    "colab": {
      "provenance": []
    },
    "kernelspec": {
      "name": "python3",
      "display_name": "Python 3"
    },
    "language_info": {
      "name": "python"
    }
  },
  "cells": [
    {
      "cell_type": "markdown",
      "source": [
        "# **Python Basic Assignment 4**"
      ],
      "metadata": {
        "id": "vQTD_8RyOI0s"
      }
    },
    {
      "cell_type": "markdown",
      "source": [
        "**1. What exactly is [ ] ?**\n",
        "\n",
        "[ ] are used to create and work with lists, which are a fundamental data structure for storing and organizing collections of items."
      ],
      "metadata": {
        "id": "2TfijEWDxQ4H"
      }
    },
    {
      "cell_type": "code",
      "execution_count": 1,
      "metadata": {
        "colab": {
          "base_uri": "https://localhost:8080/"
        },
        "id": "U1y-Cyxaw_6t",
        "outputId": "d1b0dd96-e4d1-4e35-f4b1-0de90d564aec"
      },
      "outputs": [
        {
          "output_type": "stream",
          "name": "stdout",
          "text": [
            "1\n",
            "2\n"
          ]
        }
      ],
      "source": [
        "my_list = [1, 2, 3, 4, 5] #Creating list\n",
        "print(my_list[0])  # Printing the first element (1)\n",
        "print(my_list[1]) # Printing the second element (2)\n"
      ]
    },
    {
      "cell_type": "markdown",
      "source": [
        "**2. In a list of values stored in a variable called spam, how would you assign the value 'hello' as the third value? (Assume [2, 4, 6, 8, 10] are in spam.)**\n",
        "\n",
        "spam[2] = 'hello'\n",
        "\n",
        "as lists follows zero based indexing we used 2 instead of 3\n"
      ],
      "metadata": {
        "id": "vnFDQYeNzB8N"
      }
    },
    {
      "cell_type": "code",
      "source": [
        "spam=[2,4,6,8,10]\n",
        "print(spam)\n",
        "spam[2]='hello' # Assigning the value 'hello' as the third value\n",
        "print(spam)"
      ],
      "metadata": {
        "colab": {
          "base_uri": "https://localhost:8080/"
        },
        "id": "uTQSiiVbzGU1",
        "outputId": "de3f3397-5eae-41d6-9647-4f19af5ce0c8"
      },
      "execution_count": 2,
      "outputs": [
        {
          "output_type": "stream",
          "name": "stdout",
          "text": [
            "[2, 4, 6, 8, 10]\n",
            "[2, 4, 'hello', 8, 10]\n"
          ]
        }
      ]
    },
    {
      "cell_type": "markdown",
      "source": [
        "### **Let&#39;s pretend the spam includes the list [&#39;a&#39;, &#39;b&#39;, &#39;c&#39;, &#39;d&#39;] for the next three queries.**"
      ],
      "metadata": {
        "id": "tTCD5SrW1Bh7"
      }
    },
    {
      "cell_type": "code",
      "source": [
        "spam=['a','b','c','d']"
      ],
      "metadata": {
        "id": "AG63ofLE1sUn"
      },
      "execution_count": 3,
      "outputs": []
    },
    {
      "cell_type": "markdown",
      "source": [
        "**3. What is the value of spam[int(int(&#39;3&#39; * 2) / 11)]?**\n",
        "\n",
        "The value is 'd'\n",
        "\n",
        " '3' * 2 is the string '33', which is passed to int() before being divided by 11. This eventually evaluates to 3, spam[3] is equal to d."
      ],
      "metadata": {
        "id": "RAneWMrX1Nis"
      }
    },
    {
      "cell_type": "code",
      "source": [
        "print(spam[int(int('3'*2)//11)])"
      ],
      "metadata": {
        "colab": {
          "base_uri": "https://localhost:8080/"
        },
        "id": "_hE3T_zC1lTe",
        "outputId": "177419ec-941f-4a3e-e74a-2dd862449670"
      },
      "execution_count": 4,
      "outputs": [
        {
          "output_type": "stream",
          "name": "stdout",
          "text": [
            "d\n"
          ]
        }
      ]
    },
    {
      "cell_type": "markdown",
      "source": [
        "**4. What is the value of spam[-1]?**\n",
        "\n",
        "The value is 'd'\n",
        "\n",
        "-1 returns the last value of a list"
      ],
      "metadata": {
        "id": "G9HtNg2H2HEL"
      }
    },
    {
      "cell_type": "code",
      "source": [
        "print(spam[-1])"
      ],
      "metadata": {
        "colab": {
          "base_uri": "https://localhost:8080/"
        },
        "id": "g8TXwr-X2W1B",
        "outputId": "5358035b-1bef-4dc5-c782-d475c8c6325a"
      },
      "execution_count": 5,
      "outputs": [
        {
          "output_type": "stream",
          "name": "stdout",
          "text": [
            "d\n"
          ]
        }
      ]
    },
    {
      "cell_type": "markdown",
      "source": [
        "**5. What is the value of spam[:2]?**\n",
        "\n",
        "spam[:2] returns all elements in the list spam from 0 to 2 excluding 2"
      ],
      "metadata": {
        "id": "GM7uYfe_2Ylb"
      }
    },
    {
      "cell_type": "code",
      "source": [
        "print(spam[:2])"
      ],
      "metadata": {
        "colab": {
          "base_uri": "https://localhost:8080/"
        },
        "id": "fztLZGt72iOT",
        "outputId": "07f29e69-742b-4d1a-b3a2-4ed98b1ed524"
      },
      "execution_count": 6,
      "outputs": [
        {
          "output_type": "stream",
          "name": "stdout",
          "text": [
            "['a', 'b']\n"
          ]
        }
      ]
    },
    {
      "cell_type": "markdown",
      "source": [
        "### **Let's pretend bacon has the list [3.14,'cat',11,'cat',True] for the next three question**"
      ],
      "metadata": {
        "id": "9DbPkKMn2nst"
      }
    },
    {
      "cell_type": "code",
      "source": [
        "bacon=[3.14,'cat',11,'cat',True]"
      ],
      "metadata": {
        "id": "mgF7cfSz2w81"
      },
      "execution_count": 7,
      "outputs": []
    },
    {
      "cell_type": "markdown",
      "source": [
        "**6. What is the value of bacon.index('cat')?**\n",
        "\n",
        "The value is 1\n",
        "\n",
        "index method returns the index of first occuerence of 'cat'"
      ],
      "metadata": {
        "id": "MPBsprdn2zjF"
      }
    },
    {
      "cell_type": "code",
      "source": [
        "print(bacon.index('cat'))"
      ],
      "metadata": {
        "colab": {
          "base_uri": "https://localhost:8080/"
        },
        "id": "VZnLvZtz3J52",
        "outputId": "0a22d1c6-c7fd-4753-ace4-4dae977207b6"
      },
      "execution_count": 8,
      "outputs": [
        {
          "output_type": "stream",
          "name": "stdout",
          "text": [
            "1\n"
          ]
        }
      ]
    },
    {
      "cell_type": "markdown",
      "source": [
        "**7. How does bacon.append(99) change the look of the list value in bacon?**\n",
        "\n",
        "The append method adds new elements to the end of the list"
      ],
      "metadata": {
        "id": "G-avOf5t3N__"
      }
    },
    {
      "cell_type": "code",
      "source": [
        "print(bacon)\n",
        "bacon.append(99) # appends 99 to the end of the list\n",
        "print(bacon)"
      ],
      "metadata": {
        "colab": {
          "base_uri": "https://localhost:8080/"
        },
        "id": "DYDbaO2h3Wad",
        "outputId": "a7ed01a3-2c47-4ece-f30a-85eb1479e732"
      },
      "execution_count": 9,
      "outputs": [
        {
          "output_type": "stream",
          "name": "stdout",
          "text": [
            "[3.14, 'cat', 11, 'cat', True]\n",
            "[3.14, 'cat', 11, 'cat', True, 99]\n"
          ]
        }
      ]
    },
    {
      "cell_type": "markdown",
      "source": [
        "**8. How does bacon.remove('cat') change the look of the list in bacon?**\n",
        "\n",
        "The remove method removes the first occurence of the element in the list"
      ],
      "metadata": {
        "id": "V_G_UFi53chg"
      }
    },
    {
      "cell_type": "code",
      "source": [
        "print(bacon)\n",
        "bacon.remove('cat') # removes 1st occurence of 'cat' from the list\n",
        "print(bacon)"
      ],
      "metadata": {
        "colab": {
          "base_uri": "https://localhost:8080/"
        },
        "id": "Y_oYiGMB3jtp",
        "outputId": "b24f8de6-4437-413f-a844-e9363ecaa64b"
      },
      "execution_count": 10,
      "outputs": [
        {
          "output_type": "stream",
          "name": "stdout",
          "text": [
            "[3.14, 'cat', 11, 'cat', True, 99]\n",
            "[3.14, 11, 'cat', True, 99]\n"
          ]
        }
      ]
    },
    {
      "cell_type": "markdown",
      "source": [
        "**9.what are the list concatenation and list replication operations?**\n",
        "\n",
        "The operator for list concatenation is +\n",
        "\n",
        "While the operator for replication is *"
      ],
      "metadata": {
        "id": "Tde3exWI3w3M"
      }
    },
    {
      "cell_type": "code",
      "source": [
        "list_1 = ['A','B','C','D','E']\n",
        "list_2 = ['DER','CNN','SVN']\n",
        "print(list_1 + list_2) # List Concatenation\n",
        "print(list_2*2) # List Replication"
      ],
      "metadata": {
        "colab": {
          "base_uri": "https://localhost:8080/"
        },
        "id": "NtWmMD3C4A9V",
        "outputId": "d7e9a828-bf2c-46eb-a354-e4255724323c"
      },
      "execution_count": 11,
      "outputs": [
        {
          "output_type": "stream",
          "name": "stdout",
          "text": [
            "['A', 'B', 'C', 'D', 'E', 'DER', 'CNN', 'SVN']\n",
            "['DER', 'CNN', 'SVN', 'DER', 'CNN', 'SVN']\n"
          ]
        }
      ]
    },
    {
      "cell_type": "markdown",
      "source": [
        "**10.what is the difference between the list method append() and insert()?**\n",
        "\n",
        "While append() will add values only to the end of a list, insert() can add them anywhere in the list."
      ],
      "metadata": {
        "id": "EpP09f3Y4T65"
      }
    },
    {
      "cell_type": "code",
      "source": [
        "list = [1,2,3,4,5]\n",
        "list.append(6)\n",
        "print(list)\n",
        "list.insert(2,'Demo')\n",
        "print(list)"
      ],
      "metadata": {
        "colab": {
          "base_uri": "https://localhost:8080/"
        },
        "id": "mBw6NBn44d_r",
        "outputId": "30ec4222-580c-40b5-f9bb-66a3dfef4ba0"
      },
      "execution_count": 12,
      "outputs": [
        {
          "output_type": "stream",
          "name": "stdout",
          "text": [
            "[1, 2, 3, 4, 5, 6]\n",
            "[1, 2, 'Demo', 3, 4, 5, 6]\n"
          ]
        }
      ]
    },
    {
      "cell_type": "markdown",
      "source": [
        "**11. What are the two methods for removing items from a list?**\n",
        "\n",
        "The del statement and the remove() method are two ways to remove values from a list"
      ],
      "metadata": {
        "id": "NAzQtoBp4hFO"
      }
    },
    {
      "cell_type": "code",
      "source": [
        "list = [1,2,3,4,5]\n",
        "print(list)\n",
        "del list[1] # removes item at index 1\n",
        "print(list)\n",
        "list.remove(3) # removes the item 3\n",
        "print(list)"
      ],
      "metadata": {
        "colab": {
          "base_uri": "https://localhost:8080/"
        },
        "id": "4_w8kLyL4pEq",
        "outputId": "779890fc-d5ec-4e4a-8008-3b14bcc84ded"
      },
      "execution_count": 13,
      "outputs": [
        {
          "output_type": "stream",
          "name": "stdout",
          "text": [
            "[1, 2, 3, 4, 5]\n",
            "[1, 3, 4, 5]\n",
            "[1, 4, 5]\n"
          ]
        }
      ]
    },
    {
      "cell_type": "markdown",
      "source": [
        "**12. Describe how list values and string values are identical.**\n",
        "\n",
        "Both lists and strings can be passed to len() function, have indexes and slices, be used in for loops, be concatenated or replicated, and be used with the in and not in operators."
      ],
      "metadata": {
        "id": "dnzWJQEr5FGH"
      }
    },
    {
      "cell_type": "markdown",
      "source": [
        "**13. What's the difference between tuples and lists?**\n",
        "\n",
        " Lists are Mutable, Indexable and Slicable. they can have values added, removed, or changed. Tuples are Immutable but Indexable and Slicable. the tuple values cannot be changed at all. Also, tuples are represented using parentheses, (), while lists use the square brackets, []."
      ],
      "metadata": {
        "id": "Q59zEtil5LQO"
      }
    },
    {
      "cell_type": "markdown",
      "source": [
        "**14. How do you type a tuple value that only contains the integer 42?**\n",
        "\n",
        "(42,)\n",
        "\n",
        "The trailing comma is mandatory, otherwise its considered as a int by python Interpreter"
      ],
      "metadata": {
        "id": "xljFCZj95QOB"
      }
    },
    {
      "cell_type": "code",
      "source": [
        "tup1=(42)\n",
        "tup2=(42,)\n",
        "print(type(tup1))\n",
        "print(type(tup2))"
      ],
      "metadata": {
        "colab": {
          "base_uri": "https://localhost:8080/"
        },
        "id": "IJyMWYsB5cnV",
        "outputId": "84f93b0a-fcf8-4225-94f6-8d110445f126"
      },
      "execution_count": 14,
      "outputs": [
        {
          "output_type": "stream",
          "name": "stdout",
          "text": [
            "<class 'int'>\n",
            "<class 'tuple'>\n"
          ]
        }
      ]
    },
    {
      "cell_type": "markdown",
      "source": [
        "**15. How do you get a list value's tuple form? How do you get a tuple value's list form?**\n",
        "\n",
        "The tuple() and list() functions, respectively are used to convert a list to tuple and vice versa"
      ],
      "metadata": {
        "id": "CtMnBDNh5eVv"
      }
    },
    {
      "cell_type": "markdown",
      "source": [
        "**16. Variables that \"contain\" list values are not necessarily lists themselves. Instead, what do they contain?**\n",
        "\n",
        "They contain references to list values."
      ],
      "metadata": {
        "id": "Ewdgo4yV5lBy"
      }
    },
    {
      "cell_type": "markdown",
      "source": [
        "**17. How do you distinguish between copy.copy() and copy.deepcopy()?**\n",
        "\n",
        "The copy.copy() function will do a shallow copy of a list.\n",
        "\n",
        "The copy.deepcopy() function will do a deep copy of a list. That is, only copy.deepcopy() will duplicate any lists inside the list."
      ],
      "metadata": {
        "id": "UzP_d84U5n1i"
      }
    }
  ]
}