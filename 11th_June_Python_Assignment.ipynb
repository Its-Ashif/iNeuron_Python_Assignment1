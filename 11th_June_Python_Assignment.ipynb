{
  "nbformat": 4,
  "nbformat_minor": 0,
  "metadata": {
    "colab": {
      "provenance": []
    },
    "kernelspec": {
      "name": "python3",
      "display_name": "Python 3"
    },
    "language_info": {
      "name": "python"
    }
  },
  "cells": [
    {
      "cell_type": "markdown",
      "source": [
        "# **11th June - Python (Functions Assignment)**\n"
      ],
      "metadata": {
        "id": "vQTD_8RyOI0s"
      }
    },
    {
      "cell_type": "markdown",
      "source": [
        "**1. What is a lambda function in Python, and how does it differ from a regular function?**\n",
        "\n",
        "### **Lambda function:**\n",
        "\n",
        "A lambda function in Python is a small, anonymous, and inline function that is defined using the lambda keyword. Lambda functions are typically used for simple operations and are often employed when we need a short, throwaway function for a specific task.\n",
        "\n",
        "### **Differences between lambda functions and regular functions:**\n",
        "\n",
        "**i) Name:** Lambda functions are anonymous, so they have no name. Regular functions are defined with a name using the def keyword.\n",
        "\n",
        "**ii) Size and Complexity:** Lambda functions are typically used for simple, one-liner operations. Regular functions can be more complex and can contain multiple statements and a body of code.\n",
        "\n",
        "**iii) Return:** Lambda functions implicitly return the result of the expression. Regular functions use the return keyword to explicitly specify the return value.\n",
        "\n",
        "**iv) Scope:** Lambda functions are limited in scope, they are often used where they are defined. Regular functions have a more extensive scope and can be called from anywhere in the program."
      ],
      "metadata": {
        "id": "DyrTPEzYT7QZ"
      }
    },
    {
      "cell_type": "markdown",
      "source": [
        "**2. Can a lambda function in Python have multiple arguments? If yes, how can you define and use them?**\n",
        "\n",
        "Yes, a lambda function in Python can have multiple arguments. The syntax for a lambda function with multiple arguments is similar to that of a regular function. We define the arguments after the lambda keyword, separated by commas, followed by a colon, and then provide the expression to be evaluated."
      ],
      "metadata": {
        "id": "khsNgcjvSdnN"
      }
    },
    {
      "cell_type": "code",
      "execution_count": 2,
      "metadata": {
        "colab": {
          "base_uri": "https://localhost:8080/"
        },
        "id": "BHkSHAVEQ2o6",
        "outputId": "fff42a76-2755-4fc7-9ac1-917c24dea776"
      },
      "outputs": [
        {
          "output_type": "stream",
          "name": "stdout",
          "text": [
            "15\n"
          ]
        }
      ],
      "source": [
        "multiply = lambda x, y: x * y\n",
        "result = multiply(5, 3)\n",
        "print(result)"
      ]
    },
    {
      "cell_type": "markdown",
      "source": [
        "**3. How are lambda functions typically used in Python? Provide an example use case.**\n",
        "\n",
        "Lambda functions in Python are commonly used in situations where a small, simple function is required for a short period and defining a full named function using the def keyword might be overkill.\n",
        "\n",
        "Here's an example use case with the sorted() function. Suppose we have a list of tuples, and we want to sort the list based on the second element of each tuple. We can use a lambda function as the key parameter for sorted() to achieve this:"
      ],
      "metadata": {
        "id": "npRa1j4KS8a0"
      }
    },
    {
      "cell_type": "code",
      "source": [
        "data = [(1, 5), (3, 2), (2, 8), (4, 1)]\n",
        "\n",
        "# Sort the list based on the second element of each tuple\n",
        "sorted_data = sorted(data, key=lambda x: x[1])\n",
        "\n",
        "print(sorted_data)"
      ],
      "metadata": {
        "colab": {
          "base_uri": "https://localhost:8080/"
        },
        "id": "Vnl4AUwwTjmW",
        "outputId": "9e93893c-efa0-40ad-d332-d21724dabd4a"
      },
      "execution_count": 3,
      "outputs": [
        {
          "output_type": "stream",
          "name": "stdout",
          "text": [
            "[(4, 1), (3, 2), (1, 5), (2, 8)]\n"
          ]
        }
      ]
    },
    {
      "cell_type": "markdown",
      "source": [
        "**4. What are the advantages and limitations of lambda functions compared to regular functions in Python?**\n",
        "\n",
        "### **Advantages of Lambda Functions:**\n",
        "\n",
        "**i) Conciseness:** Lambda functions are concise and allow us to define a simple function in a single line of code. This can be advantageous when we need a quick, short function for a specific task.\n",
        "\n",
        "**ii) Readability in Certain Cases:** For short and straightforward operations, lambda functions can enhance readability, especially when used with functions that accept other functions as arguments (e.g., map, filter, sorted).\n",
        "\n",
        "**iii) Functional Programming:** Lambda functions are often used in functional programming constructs, promoting a functional programming style in Python.\n",
        "\n",
        "### **Limitations of Lambda Functions:**\n",
        "\n",
        "**i) Limited Complexity:** Lambda functions are restricted to a single expression, which means they are not suitable for more complex operations that involve multiple statements or require additional logic.\n",
        "\n",
        "**ii) Readability in Complex Cases:** For more complicated operations, using a lambda function might reduce code readability. In such cases, a regular named function with a clear name and structure can be more beneficial.\n",
        "\n",
        "**iii) Limited Reusability:** Lambda functions are typically used for one-off operations, and their lack of a name and limited scope can make them less reusable than regular functions."
      ],
      "metadata": {
        "id": "3j0LXgGDTwbZ"
      }
    },
    {
      "cell_type": "markdown",
      "source": [
        "**5. Are lambda functions in Python able to access variables defined outside of their own scope? Explain with an example.**\n",
        "\n",
        "Yes, lambda functions in Python can access variables defined outside of their own scope. This is possible due to the concept of closures in Python, which allows functions to capture and remember the values of variables in the enclosing (outer) scope, even if the outer function has completed execution."
      ],
      "metadata": {
        "id": "xqIKKZ0lU-DE"
      }
    },
    {
      "cell_type": "code",
      "source": [
        "def outer_function(x):\n",
        "    inner_function = lambda y: x + y\n",
        "    return inner_function\n",
        "\n",
        "closure = outer_function(10)\n",
        "\n",
        "result = closure(5)\n",
        "\n",
        "print(result)"
      ],
      "metadata": {
        "colab": {
          "base_uri": "https://localhost:8080/"
        },
        "id": "WyIKKYPTWhQF",
        "outputId": "8c4565b5-49a0-43f4-b469-ca7d60bd798c"
      },
      "execution_count": 4,
      "outputs": [
        {
          "output_type": "stream",
          "name": "stdout",
          "text": [
            "15\n"
          ]
        }
      ]
    },
    {
      "cell_type": "markdown",
      "source": [
        "**6. Write a lambda function to calculate the square of a given number.**"
      ],
      "metadata": {
        "id": "4xutJ37gWwe6"
      }
    },
    {
      "cell_type": "code",
      "source": [
        "square = lambda x: x**2\n",
        "print(square(5))"
      ],
      "metadata": {
        "colab": {
          "base_uri": "https://localhost:8080/"
        },
        "id": "vcT6OWHpW4QG",
        "outputId": "7198b3e4-25ed-4395-86f5-bb77ee040cc3"
      },
      "execution_count": 6,
      "outputs": [
        {
          "output_type": "stream",
          "name": "stdout",
          "text": [
            "25\n"
          ]
        }
      ]
    },
    {
      "cell_type": "markdown",
      "source": [
        "**7. Create a lambda function to find the maximum value in a list of integers.**"
      ],
      "metadata": {
        "id": "rKyroP5RXA89"
      }
    },
    {
      "cell_type": "code",
      "source": [
        "numbers = [12, 45, 67, 23, 9, 56, 34]\n",
        "\n",
        "find_max = lambda x: max(x)\n",
        "\n",
        "print(find_max(numbers))"
      ],
      "metadata": {
        "colab": {
          "base_uri": "https://localhost:8080/"
        },
        "id": "o5njKewOXRt5",
        "outputId": "097e2371-6f85-41eb-b59d-a6d7ae582499"
      },
      "execution_count": 7,
      "outputs": [
        {
          "output_type": "stream",
          "name": "stdout",
          "text": [
            "67\n"
          ]
        }
      ]
    },
    {
      "cell_type": "markdown",
      "source": [
        "**8. Implement a lambda function to filter out all the even numbers from a list of integers.**"
      ],
      "metadata": {
        "id": "4Sdp1GTyXcHN"
      }
    },
    {
      "cell_type": "code",
      "source": [
        "numbers = [1, 2, 3, 4, 5, 6, 7, 8, 9, 10]\n",
        "\n",
        "filter_even = lambda x: x % 2 != 0\n",
        "\n",
        "odd_numbers = list(filter(filter_even, numbers))\n",
        "print(odd_numbers)"
      ],
      "metadata": {
        "colab": {
          "base_uri": "https://localhost:8080/"
        },
        "id": "UARLEkjLXpua",
        "outputId": "794a13c1-0aab-4ab6-b56e-38b3ef454925"
      },
      "execution_count": 8,
      "outputs": [
        {
          "output_type": "stream",
          "name": "stdout",
          "text": [
            "[1, 3, 5, 7, 9]\n"
          ]
        }
      ]
    },
    {
      "cell_type": "markdown",
      "source": [
        "**9. Write a lambda function to sort a list of strings in ascending order based on the length of each string.**"
      ],
      "metadata": {
        "id": "J4-28VRpX1aQ"
      }
    },
    {
      "cell_type": "code",
      "source": [
        "strings = [\"apple\", \"banana\", \"kiwi\", \"orange\", \"grape\"]\n",
        "\n",
        "sort_by_length = lambda x: len(x)\n",
        "\n",
        "sorted_strings = sorted(strings, key=sort_by_length)\n",
        "print(sorted_strings)"
      ],
      "metadata": {
        "colab": {
          "base_uri": "https://localhost:8080/"
        },
        "id": "Gszv_sLWYCJo",
        "outputId": "baf3955c-b3ee-44f5-8d55-d6ae7d187796"
      },
      "execution_count": 9,
      "outputs": [
        {
          "output_type": "stream",
          "name": "stdout",
          "text": [
            "['kiwi', 'apple', 'grape', 'banana', 'orange']\n"
          ]
        }
      ]
    },
    {
      "cell_type": "markdown",
      "source": [
        "**10. Create a lambda function that takes two lists as input and returns a new list containing the common elements between the two lists.**"
      ],
      "metadata": {
        "id": "f8SU9HPIYPeq"
      }
    },
    {
      "cell_type": "code",
      "source": [
        "list1 = [1, 2, 3, 4, 5]\n",
        "list2 = [3, 4, 5, 6, 7]\n",
        "\n",
        "find_common = lambda x, y: list(filter(lambda elem: elem in y, x))\n",
        "print(find_common(list1, list2))"
      ],
      "metadata": {
        "colab": {
          "base_uri": "https://localhost:8080/"
        },
        "id": "kzyGsgHqYcMx",
        "outputId": "ac88070f-0640-4093-e46c-3f6c7cd89562"
      },
      "execution_count": 10,
      "outputs": [
        {
          "output_type": "stream",
          "name": "stdout",
          "text": [
            "[3, 4, 5]\n"
          ]
        }
      ]
    },
    {
      "cell_type": "markdown",
      "source": [
        "**11. Write a recursive function to calculate the factorial of a given positive integer.**"
      ],
      "metadata": {
        "id": "TvHlXNSqYmv3"
      }
    },
    {
      "cell_type": "code",
      "source": [
        "def factorial(n):\n",
        "    if n == 0 or n == 1:\n",
        "        return 1\n",
        "    else:\n",
        "        return n * factorial(n - 1)\n",
        "\n",
        "print(factorial(5))"
      ],
      "metadata": {
        "colab": {
          "base_uri": "https://localhost:8080/"
        },
        "id": "WMZXyQ7QYwvY",
        "outputId": "e377c9a2-08e3-44c6-f1c8-d1ec4db12fa9"
      },
      "execution_count": 11,
      "outputs": [
        {
          "output_type": "stream",
          "name": "stdout",
          "text": [
            "120\n"
          ]
        }
      ]
    },
    {
      "cell_type": "markdown",
      "source": [
        "**12. Implement a recursive function to compute the nth Fibonacci number.**"
      ],
      "metadata": {
        "id": "9M_L-soWY5cy"
      }
    },
    {
      "cell_type": "code",
      "source": [
        "def fibonacci(n):\n",
        "    if n == 0:\n",
        "        return 0\n",
        "    elif n == 1:\n",
        "        return 1\n",
        "    else:\n",
        "        return fibonacci(n - 1) + fibonacci(n - 2)\n",
        "\n",
        "print(fibonacci(6))"
      ],
      "metadata": {
        "colab": {
          "base_uri": "https://localhost:8080/"
        },
        "id": "1baVUXa1Y-OB",
        "outputId": "9a3e3101-ba25-4c2b-a98c-f397f088ce53"
      },
      "execution_count": 12,
      "outputs": [
        {
          "output_type": "stream",
          "name": "stdout",
          "text": [
            "8\n"
          ]
        }
      ]
    },
    {
      "cell_type": "markdown",
      "source": [
        "**13. Create a recursive function to find the sum of all the elements in a given list.**"
      ],
      "metadata": {
        "id": "cVvjm3AqZHpx"
      }
    },
    {
      "cell_type": "code",
      "source": [
        "def recursive_sum(lst):\n",
        "    if not lst:\n",
        "        return 0\n",
        "    else:\n",
        "        return lst[0] + recursive_sum(lst[1:])\n",
        "\n",
        "numbers = [1, 2, 3, 4, 5]\n",
        "print(recursive_sum(numbers))\n"
      ],
      "metadata": {
        "colab": {
          "base_uri": "https://localhost:8080/"
        },
        "id": "y6W_VME7ZGij",
        "outputId": "bef0c700-0a21-4e17-ce0a-27fcfc559009"
      },
      "execution_count": 13,
      "outputs": [
        {
          "output_type": "stream",
          "name": "stdout",
          "text": [
            "15\n"
          ]
        }
      ]
    },
    {
      "cell_type": "markdown",
      "source": [
        "**14. Write a recursive function to determine whether a given string is a palindrome.**"
      ],
      "metadata": {
        "id": "rvYp2wQMZWle"
      }
    },
    {
      "cell_type": "code",
      "source": [
        "def is_palindrome(s):\n",
        "    if len(s) <= 1:\n",
        "        return True\n",
        "    else:\n",
        "        return s[0] == s[-1] and is_palindrome(s[1:-1])\n",
        "\n",
        "string1 = \"radar\"\n",
        "string2 = \"python\"\n",
        "\n",
        "print(is_palindrome(string1))\n",
        "print(is_palindrome(string2))"
      ],
      "metadata": {
        "colab": {
          "base_uri": "https://localhost:8080/"
        },
        "id": "TZHWTEXxZVXd",
        "outputId": "c81aec1e-bf4d-4a3b-e97b-0d432a5f6b89"
      },
      "execution_count": 14,
      "outputs": [
        {
          "output_type": "stream",
          "name": "stdout",
          "text": [
            "True\n",
            "False\n"
          ]
        }
      ]
    },
    {
      "cell_type": "markdown",
      "source": [
        "**15. Implement a recursive function to find the greatest common divisor (GCD) of two positive integers.**"
      ],
      "metadata": {
        "id": "wBSJ6Au7ZnXw"
      }
    },
    {
      "cell_type": "code",
      "source": [
        "def gcd(a, b):\n",
        "    if b == 0:\n",
        "        return a\n",
        "    else:\n",
        "        return gcd(b, a % b)\n",
        "\n",
        "print(gcd(48, 18))"
      ],
      "metadata": {
        "colab": {
          "base_uri": "https://localhost:8080/"
        },
        "id": "Dtoskr8GZmvL",
        "outputId": "40f4e08d-3001-42c8-9e1d-2885f617e596"
      },
      "execution_count": 15,
      "outputs": [
        {
          "output_type": "stream",
          "name": "stdout",
          "text": [
            "6\n"
          ]
        }
      ]
    }
  ]
}