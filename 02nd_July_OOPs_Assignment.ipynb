{
  "nbformat": 4,
  "nbformat_minor": 0,
  "metadata": {
    "colab": {
      "provenance": []
    },
    "kernelspec": {
      "name": "python3",
      "display_name": "Python 3"
    },
    "language_info": {
      "name": "python"
    }
  },
  "cells": [
    {
      "cell_type": "markdown",
      "source": [
        "# **02nd July OOPs Assignment**"
      ],
      "metadata": {
        "id": "T-oP_zfOteIt"
      }
    },
    {
      "cell_type": "markdown",
      "source": [
        "**1. Explain what inheritance is in object-oriented programming and why it is used.**\n",
        "\n",
        "inheritance is a fundamental concept that allows a class (called the subclass or derived class) to inherit properties and behaviors from another class (called the superclass or base class). This relationship enables the subclass to reuse, extend, or override the functionalities of the superclass.\n",
        "\n",
        "**Reasons for using inheritance are:**\n",
        "\n",
        "**i) Reusability:** Inheritance promotes code reusability by allowing a subclass to inherit the attributes and methods of a superclass. This means that the subclass can leverage existing code without having to redefine it.\n",
        "\n",
        "**ii) Extensibility:** Subclasses can extend the functionality of the superclass by adding new methods or properties. This enables the creation of more specialized classes without modifying the existing code in the superclass.\n",
        "\n",
        "**iii) Polymorphism:** Inheritance contributes to polymorphism, which allows objects of the subclass to be treated as objects of the superclass. This enhances flexibility in designing and using classes, as objects of different classes can be used interchangeably if they share a common superclass.\n",
        "\n",
        "**iv) Maintenance:** Changes made to the superclass are automatically reflected in all its subclasses. This simplifies maintenance, as modifications are localized to the superclass, and the changes cascade down to the subclasses.\n"
      ],
      "metadata": {
        "id": "029I05o-tlz6"
      }
    },
    {
      "cell_type": "code",
      "execution_count": 1,
      "metadata": {
        "colab": {
          "base_uri": "https://localhost:8080/"
        },
        "id": "sOAS3idstazL",
        "outputId": "2eeddc3c-09b5-4b37-fe91-1906f7b90859"
      },
      "outputs": [
        {
          "output_type": "stream",
          "name": "stdout",
          "text": [
            "Woof!\n",
            "Meow!\n"
          ]
        }
      ],
      "source": [
        "class Animal:\n",
        "    def __init__(self, name):\n",
        "        self.name = name\n",
        "\n",
        "    def make_sound(self):\n",
        "        pass\n",
        "\n",
        "class Dog(Animal):\n",
        "    def make_sound(self):\n",
        "        return \"Woof!\"\n",
        "\n",
        "class Cat(Animal):\n",
        "    def make_sound(self):\n",
        "        return \"Meow!\"\n",
        "\n",
        "dog = Dog(\"Buddy\")\n",
        "cat = Cat(\"Whiskers\")\n",
        "\n",
        "print(dog.make_sound())\n",
        "print(cat.make_sound())"
      ]
    },
    {
      "cell_type": "markdown",
      "source": [
        "**2. Discuss the concept of single inheritance and multiple inheritance, highlighting their differences and advantages.**\n",
        "\n",
        "**Single Inheritance:**\n",
        "In single inheritance, a class can inherit properties and behaviors from only one superclass. This means that each class is derived from only a single parent class. Single inheritance simplifies the class hierarchy, making it more straightforward and easier to understand. The structure is linear, and there is a clear and direct relationship between the base class and the derived class.\n",
        "\n",
        "**Multiple Inheritance:**\n",
        "In multiple inheritance, a class can inherit properties and behaviors from more than one superclass. This allows a class to combine features from multiple sources, leading to a more complex class hierarchy. However, it also provides greater flexibility and the ability to reuse code from different classes.\n",
        "\n",
        "**Differences:**\n",
        "\n",
        "**i) Structure:**\n",
        "\n",
        "* Single inheritance has a linear structure, where each class inherits from one parent class.\n",
        "* Multiple inheritance has a more complex structure, where a class can inherit from multiple parent classes, forming a directed acyclic graph.\n",
        "\n",
        "**ii) Readability:**\n",
        "\n",
        "* Single inheritance is generally considered simpler and more readable because the relationships are straightforward.\n",
        "* Multiple inheritance can make the class hierarchy more complex and potentially harder to understand.\n",
        "\n",
        "**iii) Ambiguity:**\n",
        "\n",
        "* Single inheritance avoids the issue of ambiguity, as there is only one path from the derived class to the base class.\n",
        "* Multiple inheritance may introduce ambiguity in cases where two or more parent classes have methods or attributes with the same name.\n",
        "\n",
        "**Advantages:**\n",
        "\n",
        "**i) Single Inheritance:**\n",
        "\n",
        "* Simplicity:Easier to understand and maintain due to a linear structure.\n",
        "* Avoids ambiguity: No confusion about the origin of inherited properties.\n",
        "Multiple Inheritance:\n",
        "\n",
        "**ii) Code Reusability:**\n",
        "* Enables a class to inherit features from multiple sources, promoting code reuse.\n",
        "* Flexibility: Provides greater flexibility in combining functionalities from different classes."
      ],
      "metadata": {
        "id": "psa-VeNDuRd4"
      }
    },
    {
      "cell_type": "code",
      "source": [
        "# Single Inheritance\n",
        "class Animal:\n",
        "    def speak(self):\n",
        "        print(\"Animal speaks\")\n",
        "\n",
        "class Dog(Animal):\n",
        "    def bark(self):\n",
        "        print(\"Dog barks\")\n",
        "\n",
        "my_dog = Dog()\n",
        "my_dog.speak()\n",
        "my_dog.bark()\n"
      ],
      "metadata": {
        "colab": {
          "base_uri": "https://localhost:8080/"
        },
        "id": "q2OHifo9vW_5",
        "outputId": "058f3ea9-95c4-4d6d-e2bd-f86e96c84e02"
      },
      "execution_count": 2,
      "outputs": [
        {
          "output_type": "stream",
          "name": "stdout",
          "text": [
            "Animal speaks\n",
            "Dog barks\n"
          ]
        }
      ]
    },
    {
      "cell_type": "code",
      "source": [
        "# Multiple Inheritance\n",
        "class Animal:\n",
        "    def speak(self):\n",
        "        print(\"Animal speaks\")\n",
        "\n",
        "class Mammal:\n",
        "    def run(self):\n",
        "        print(\"Mammal runs\")\n",
        "\n",
        "class Dog(Animal, Mammal):\n",
        "    def bark(self):\n",
        "        print(\"Dog barks\")\n",
        "\n",
        "my_dog = Dog()\n",
        "my_dog.speak()\n",
        "my_dog.run()\n",
        "my_dog.bark()\n"
      ],
      "metadata": {
        "id": "NCmBK9lLvccC"
      },
      "execution_count": null,
      "outputs": []
    },
    {
      "cell_type": "markdown",
      "source": [
        "**3. Explain the terms \"base class\" and \"derived class\" in the context of inheritance.**\n",
        "\n",
        "**Base Class:**\n",
        "\n",
        "* Also known as the \"parent class\" or \"superclass.\"\n",
        "* The class that provides the fundamental attributes and behaviors to be inherited by other classes.\n",
        "* Typically, the base class represents a more general or abstract concept.\n",
        "* The base class is defined first and serves as the foundation for one or more derived classes.\n",
        "\n",
        "**Derived Class:**\n",
        "\n",
        "* Also known as the \"child class\" or \"subclass.\"\n",
        "* The class that inherits properties and behaviors from another class (the base class).\n",
        "* The derived class can extend or override the functionalities of the base class.\n",
        "* It may also add new attributes or methods specific to the derived class.\n",
        "* A class can have multiple derived classes, and a derived class can serve as a base class for further subclasses."
      ],
      "metadata": {
        "id": "D5neJtsnvk-W"
      }
    },
    {
      "cell_type": "code",
      "source": [
        "# Base Class\n",
        "class Animal:\n",
        "    def __init__(self, name):\n",
        "        self.name = name\n",
        "\n",
        "    def speak(self):\n",
        "        print(f\"{self.name} speaks\")\n",
        "\n",
        "# Derived Class\n",
        "class Dog(Animal):\n",
        "    def bark(self):\n",
        "        print(f\"{self.name} barks\")\n",
        "\n",
        "# Creating instances of the classes\n",
        "my_animal = Animal(\"Generic Animal\")\n",
        "my_dog = Dog(\"Buddy\")\n",
        "\n",
        "# Using methods from the base and derived classes\n",
        "my_animal.speak()\n",
        "my_dog.speak()\n",
        "my_dog.bark()\n"
      ],
      "metadata": {
        "colab": {
          "base_uri": "https://localhost:8080/"
        },
        "id": "KDsSYWvZv7M_",
        "outputId": "840ce172-06ef-4952-969c-8f58ac89230f"
      },
      "execution_count": 3,
      "outputs": [
        {
          "output_type": "stream",
          "name": "stdout",
          "text": [
            "Generic Animal speaks\n",
            "Buddy speaks\n",
            "Buddy barks\n"
          ]
        }
      ]
    },
    {
      "cell_type": "markdown",
      "source": [
        "**4. What is the significance of the \"protected\" access modifier in inheritance? How does it differ from \"private\" and \"public\" modifiers?**\n",
        "\n",
        " Access modifiers determine the visibility and accessibility of class members (attributes and methods) within a class hierarchy. These modifiers control how members can be accessed from outside the class or within derived classes. In most OOP languages, including Python, Java, and C++, the three common access modifiers are \"public,\" \"private,\" and \"protected.\"\n",
        "\n",
        " Below is an explanation of each, with a focus on the \"protected\" access modifier in the context of inheritance:\n",
        "\n",
        "**i) Public:**\n",
        "\n",
        "* Members declared as public are accessible from anywhere, both within the class and from outside the class.\n",
        "* They can be accessed by instances of the class, as well as by other classes and code outside the class.\n",
        "\n",
        "**ii) Private:**\n",
        "\n",
        "* Members declared as private are only accessible within the class where they are defined.\n",
        "* They are not directly accessible from outside the class or from derived classes.\n",
        "* Private members are typically used to encapsulate implementation details and hide them from external code.\n",
        "\n",
        "**iii) Protected:**\n",
        "\n",
        "* Members declared as protected are accessible within the class where they are defined and in its derived classes.\n",
        "* They are not directly accessible from outside the class hierarchy (i.e., from code that is not part of the class or its subclasses).\n",
        "* Protected members are often used when you want to allow access to derived classes but not to external code.\n",
        "\n",
        "**Significance of \"Protected\" in Inheritance:**\n",
        "\n",
        "* The \"protected\" access modifier is particularly useful in inheritance scenarios.\n",
        "* It allows derived classes to access and manipulate members of the base class, facilitating code reuse and extension.\n",
        "* It strikes a balance between the openness of \"public\" and the encapsulation of \"private,\" providing a middle ground for sharing within a class hierarchy."
      ],
      "metadata": {
        "id": "GXHyEeS5v-a4"
      }
    },
    {
      "cell_type": "markdown",
      "source": [
        "**5. What is the purpose of the \"super\" keyword in inheritance? Provide an example.**\n",
        "\n",
        "The super keyword in object-oriented programming is used to refer to the superclass (or parent class) of the current class. It provides a way to call methods or access attributes from the superclass within the context of a subclass. This is particularly useful when you want to extend the functionality of the superclass in the derived class while still using or invoking the behavior of the superclass.\n",
        "\n",
        "The primary purpose of super is to facilitate cooperative inheritance and avoid code duplication. It allows a subclass to leverage the methods and attributes of its superclass, promoting code reuse and maintainability."
      ],
      "metadata": {
        "id": "uC89qQySwxUf"
      }
    },
    {
      "cell_type": "code",
      "source": [
        "class Animal:\n",
        "    def __init__(self, name):\n",
        "        self.name = name\n",
        "\n",
        "    def speak(self):\n",
        "        print(f\"{self.name} speaks\")\n",
        "\n",
        "class Dog(Animal):\n",
        "    def __init__(self, name, breed):\n",
        "        super().__init__(name)\n",
        "        self.breed = breed\n",
        "\n",
        "    def bark(self):\n",
        "        print(f\"{self.name} barks\")\n",
        "\n",
        "\n",
        "my_dog = Dog(\"Buddy\", \"Golden Retriever\")\n",
        "\n",
        "my_dog.speak()\n",
        "my_dog.bark()\n"
      ],
      "metadata": {
        "colab": {
          "base_uri": "https://localhost:8080/"
        },
        "id": "Ec30CUeHw8Rw",
        "outputId": "28c77495-31f9-4f51-ed82-c779eb42b2c7"
      },
      "execution_count": 4,
      "outputs": [
        {
          "output_type": "stream",
          "name": "stdout",
          "text": [
            "Buddy speaks\n",
            "Buddy barks\n"
          ]
        }
      ]
    },
    {
      "cell_type": "markdown",
      "source": [
        "**6. Create a base class called \"Vehicle\" with attributes like \"make\", \"model\", and \"year\". Then, create a derived class called \"Car\" that inherits from \"Vehicle\" and adds an attribute called \"fuel_type\". Implement appropriate methods in both classes.**"
      ],
      "metadata": {
        "id": "VLHdluwpxA8F"
      }
    },
    {
      "cell_type": "code",
      "source": [
        "class Vehicle:\n",
        "    def __init__(self, make, model, year):\n",
        "        self.make = make\n",
        "        self.model = model\n",
        "        self.year = year\n",
        "\n",
        "    def display_info(self):\n",
        "        print(f\"{self.year} {self.make} {self.model}\")\n",
        "\n",
        "class Car(Vehicle):\n",
        "    def __init__(self, make, model, year, fuel_type):\n",
        "        super().__init__(make, model, year)\n",
        "        self.fuel_type = fuel_type\n",
        "\n",
        "    def display_info(self):\n",
        "        super().display_info()\n",
        "        print(f\"Fuel Type: {self.fuel_type}\")\n",
        "\n",
        "my_car = Car(\"Toyota\", \"Camry\", 2022, \"Gasoline\")\n",
        "\n",
        "my_car.display_info()\n"
      ],
      "metadata": {
        "colab": {
          "base_uri": "https://localhost:8080/"
        },
        "id": "QsGrx7NgxD1G",
        "outputId": "f9d83dd5-2fd5-4f10-e7f9-7aafe4b13d32"
      },
      "execution_count": 5,
      "outputs": [
        {
          "output_type": "stream",
          "name": "stdout",
          "text": [
            "2022 Toyota Camry\n",
            "Fuel Type: Gasoline\n"
          ]
        }
      ]
    },
    {
      "cell_type": "markdown",
      "source": [
        "**7. Create a base class called \"Employee\" with attributes like \"name\" and \"salary.\" Derive two classes, \"Manager\" and \"Developer,\" from \"Employee.\" Add an additional attribute called \"department\" for the \"Manager\" class and \"programming_language\" for the \"Developer\" class.**"
      ],
      "metadata": {
        "id": "90mNoxV7xJjQ"
      }
    },
    {
      "cell_type": "code",
      "source": [
        "class Employee:\n",
        "    def __init__(self, name, salary):\n",
        "        self.name = name\n",
        "        self.salary = salary\n",
        "\n",
        "    def display_info(self):\n",
        "        print(f\"Name: {self.name}\")\n",
        "        print(f\"Salary: ${self.salary}\")\n",
        "\n",
        "class Manager(Employee):\n",
        "    def __init__(self, name, salary, department):\n",
        "        super().__init__(name, salary)\n",
        "        self.department = department\n",
        "\n",
        "    def display_info(self):\n",
        "        super().display_info()\n",
        "        print(f\"Department: {self.department}\")\n",
        "\n",
        "class Developer(Employee):\n",
        "    def __init__(self, name, salary, programming_language):\n",
        "        super().__init__(name, salary)\n",
        "        self.programming_language = programming_language\n",
        "\n",
        "    def display_info(self):\n",
        "\n",
        "        super().display_info()\n",
        "        print(f\"Programming Language: {self.programming_language}\")\n",
        "\n",
        "manager = Manager(\"John Doe\", 80000, \"Engineering\")\n",
        "developer = Developer(\"Alice Smith\", 70000, \"Python\")\n",
        "\n",
        "print(\"Manager Information:\")\n",
        "manager.display_info()\n",
        "print(\"\\nDeveloper Information:\")\n",
        "developer.display_info()\n"
      ],
      "metadata": {
        "colab": {
          "base_uri": "https://localhost:8080/"
        },
        "id": "scTvkU6kxPtW",
        "outputId": "6280d875-fc9d-4e1b-f8ee-1a7a2c666fd5"
      },
      "execution_count": 6,
      "outputs": [
        {
          "output_type": "stream",
          "name": "stdout",
          "text": [
            "Manager Information:\n",
            "Name: John Doe\n",
            "Salary: $80000\n",
            "Department: Engineering\n",
            "\n",
            "Developer Information:\n",
            "Name: Alice Smith\n",
            "Salary: $70000\n",
            "Programming Language: Python\n"
          ]
        }
      ]
    },
    {
      "cell_type": "markdown",
      "source": [
        "**8. Design a base class called \"Shape\" with attributes like \"colour\" and \"border_width.\" Create derived classes, \"Rectangle\" and \"Circle,\" that inherit from \"Shape\" and add specific attributes like \"length\" and \"width\" for the \"Rectangle\" class and \"radius\" for the \"Circle\" class.**"
      ],
      "metadata": {
        "id": "DFMMvz9rxYW8"
      }
    },
    {
      "cell_type": "code",
      "source": [
        "class Shape:\n",
        "    def __init__(self, colour, border_width):\n",
        "        self.colour = colour\n",
        "        self.border_width = border_width\n",
        "\n",
        "    def display_info(self):\n",
        "        print(f\"Colour: {self.colour}\")\n",
        "        print(f\"Border Width: {self.border_width}\")\n",
        "\n",
        "class Rectangle(Shape):\n",
        "    def __init__(self, colour, border_width, length, width):\n",
        "        super().__init__(colour, border_width)\n",
        "        self.length = length\n",
        "        self.width = width\n",
        "\n",
        "    def display_info(self):\n",
        "        super().display_info()\n",
        "        print(f\"Length: {self.length}\")\n",
        "        print(f\"Width: {self.width}\")\n",
        "\n",
        "class Circle(Shape):\n",
        "    def __init__(self, colour, border_width, radius):\n",
        "        super().__init__(colour, border_width)\n",
        "        self.radius = radius\n",
        "\n",
        "    def display_info(self):\n",
        "        super().display_info()\n",
        "        print(f\"Radius: {self.radius}\")\n",
        "\n",
        "rectangle = Rectangle(\"Blue\", 2, 10, 5)\n",
        "circle = Circle(\"Red\", 1, 7)\n",
        "\n",
        "print(\"Rectangle Information:\")\n",
        "rectangle.display_info()\n",
        "print(\"\\nCircle Information:\")\n",
        "circle.display_info()\n"
      ],
      "metadata": {
        "colab": {
          "base_uri": "https://localhost:8080/"
        },
        "id": "UGEjZseJxckg",
        "outputId": "eee8f123-42cd-4c65-8f52-ba4ffb9e0d89"
      },
      "execution_count": 7,
      "outputs": [
        {
          "output_type": "stream",
          "name": "stdout",
          "text": [
            "Rectangle Information:\n",
            "Colour: Blue\n",
            "Border Width: 2\n",
            "Length: 10\n",
            "Width: 5\n",
            "\n",
            "Circle Information:\n",
            "Colour: Red\n",
            "Border Width: 1\n",
            "Radius: 7\n"
          ]
        }
      ]
    },
    {
      "cell_type": "markdown",
      "source": [
        "**9. Create a base class called \"Device\" with attributes like \"brand\" and \"model.\" Derive two classes, \"Phone\" and \"Tablet,\" from \"Device.\" Add specific attributes like \"screen_size\" for the \"Phone\" class and \"battery_capacity\" for the \"Tablet\" class.**"
      ],
      "metadata": {
        "id": "hRwHLvgvxjWR"
      }
    },
    {
      "cell_type": "code",
      "source": [
        "class Device:\n",
        "    def __init__(self, brand, model):\n",
        "        self.brand = brand\n",
        "        self.model = model\n",
        "\n",
        "    def display_info(self):\n",
        "        print(f\"Brand: {self.brand}\")\n",
        "        print(f\"Model: {self.model}\")\n",
        "\n",
        "class Phone(Device):\n",
        "    def __init__(self, brand, model, screen_size):\n",
        "        super().__init__(brand, model)\n",
        "        self.screen_size = screen_size\n",
        "\n",
        "    def display_info(self):\n",
        "        super().display_info()\n",
        "        print(f\"Screen Size: {self.screen_size} inches\")\n",
        "\n",
        "class Tablet(Device):\n",
        "    def __init__(self, brand, model, battery_capacity):\n",
        "        super().__init__(brand, model)\n",
        "        self.battery_capacity = battery_capacity\n",
        "\n",
        "    def display_info(self):\n",
        "        super().display_info()\n",
        "        print(f\"Battery Capacity: {self.battery_capacity} mAh\")\n",
        "\n",
        "phone = Phone(\"Samsung\", \"Galaxy S21\", 6.2)\n",
        "tablet = Tablet(\"Apple\", \"iPad Pro\", 10000)\n",
        "\n",
        "print(\"Phone Information:\")\n",
        "phone.display_info()\n",
        "print(\"\\nTablet Information:\")\n",
        "tablet.display_info()\n"
      ],
      "metadata": {
        "colab": {
          "base_uri": "https://localhost:8080/"
        },
        "id": "ozWgj3ZqxogH",
        "outputId": "7540c627-4fbf-4e3f-b57f-fc3839b3df6b"
      },
      "execution_count": 8,
      "outputs": [
        {
          "output_type": "stream",
          "name": "stdout",
          "text": [
            "Phone Information:\n",
            "Brand: Samsung\n",
            "Model: Galaxy S21\n",
            "Screen Size: 6.2 inches\n",
            "\n",
            "Tablet Information:\n",
            "Brand: Apple\n",
            "Model: iPad Pro\n",
            "Battery Capacity: 10000 mAh\n"
          ]
        }
      ]
    },
    {
      "cell_type": "markdown",
      "source": [
        "**10. Create a base class called \"BankAccount\" with attributes like \"account_number\" and \"balance.\" Derive two classes, \"SavingsAccount\" and \"CheckingAccount,\" from \"BankAccount.\" Add specific methods like \"calculate_interest\" for the \"SavingsAccount\" class and \"deduct_fees\" for the \"CheckingAccount\" class.**"
      ],
      "metadata": {
        "id": "puXy24vxxtnT"
      }
    },
    {
      "cell_type": "code",
      "source": [
        "class BankAccount:\n",
        "    def __init__(self, account_number, balance):\n",
        "        self.account_number = account_number\n",
        "        self.balance = balance\n",
        "\n",
        "    def display_info(self):\n",
        "        print(f\"Account Number: {self.account_number}\")\n",
        "        print(f\"Balance: ${self.balance:.2f}\")\n",
        "\n",
        "class SavingsAccount(BankAccount):\n",
        "    def __init__(self, account_number, balance, interest_rate):\n",
        "        super().__init__(account_number, balance)\n",
        "        self.interest_rate = interest_rate\n",
        "\n",
        "    def calculate_interest(self):\n",
        "        interest = self.balance * (self.interest_rate / 100)\n",
        "        self.balance += interest\n",
        "        print(f\"Interest Calculated: ${interest:.2f}\")\n",
        "\n",
        "class CheckingAccount(BankAccount):\n",
        "    def __init__(self, account_number, balance, fee_per_transaction):\n",
        "        super().__init__(account_number, balance)\n",
        "        self.fee_per_transaction = fee_per_transaction\n",
        "\n",
        "    def deduct_fees(self, num_transactions):\n",
        "        fees = self.fee_per_transaction * num_transactions\n",
        "        self.balance -= fees\n",
        "        print(f\"Fees Deducted: ${fees:.2f}\")\n",
        "\n",
        "savings_account = SavingsAccount(\"123456\", 5000, 2.5)\n",
        "checking_account = CheckingAccount(\"789012\", 7000, 1.0)\n",
        "\n",
        "print(\"Savings Account Information:\")\n",
        "savings_account.display_info()\n",
        "savings_account.calculate_interest()\n",
        "savings_account.display_info()\n",
        "\n",
        "print(\"\\nChecking Account Information:\")\n",
        "checking_account.display_info()\n",
        "checking_account.deduct_fees(3)\n",
        "checking_account.display_info()"
      ],
      "metadata": {
        "colab": {
          "base_uri": "https://localhost:8080/"
        },
        "id": "XYz3CQhGxzZS",
        "outputId": "dd59829f-bb40-43f8-ffe9-ae32d6fb8fce"
      },
      "execution_count": 9,
      "outputs": [
        {
          "output_type": "stream",
          "name": "stdout",
          "text": [
            "Savings Account Information:\n",
            "Account Number: 123456\n",
            "Balance: $5000.00\n",
            "Interest Calculated: $125.00\n",
            "Account Number: 123456\n",
            "Balance: $5125.00\n",
            "\n",
            "Checking Account Information:\n",
            "Account Number: 789012\n",
            "Balance: $7000.00\n",
            "Fees Deducted: $3.00\n",
            "Account Number: 789012\n",
            "Balance: $6997.00\n"
          ]
        }
      ]
    }
  ]
}