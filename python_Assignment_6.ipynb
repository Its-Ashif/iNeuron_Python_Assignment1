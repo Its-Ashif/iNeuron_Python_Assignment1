{
  "nbformat": 4,
  "nbformat_minor": 0,
  "metadata": {
    "colab": {
      "provenance": []
    },
    "kernelspec": {
      "name": "python3",
      "display_name": "Python 3"
    },
    "language_info": {
      "name": "python"
    }
  },
  "cells": [
    {
      "cell_type": "markdown",
      "source": [
        "# **Python Assignment 20th May 2023**"
      ],
      "metadata": {
        "id": "vQTD_8RyOI0s"
      }
    },
    {
      "cell_type": "markdown",
      "source": [
        "**Q.1. What are keywords in python? Using the keyword library, print all the python keywords.**\n",
        "\n",
        "keywords are reserved words that have special meanings and are an essential part of the Python language. These keywords cannot be used as identifiers (variable names, function names, etc.) because they serve specific purposes in the Python language."
      ],
      "metadata": {
        "id": "fAo7KrwHN9Wo"
      }
    },
    {
      "cell_type": "code",
      "source": [
        "import keyword\n",
        "print(keyword.kwlist)"
      ],
      "metadata": {
        "colab": {
          "base_uri": "https://localhost:8080/"
        },
        "id": "kKyWvfY3Ofbl",
        "outputId": "295366e0-9056-4ca7-bec8-82c5f2cafa42"
      },
      "execution_count": 1,
      "outputs": [
        {
          "output_type": "stream",
          "name": "stdout",
          "text": [
            "['False', 'None', 'True', 'and', 'as', 'assert', 'async', 'await', 'break', 'class', 'continue', 'def', 'del', 'elif', 'else', 'except', 'finally', 'for', 'from', 'global', 'if', 'import', 'in', 'is', 'lambda', 'nonlocal', 'not', 'or', 'pass', 'raise', 'return', 'try', 'while', 'with', 'yield']\n"
          ]
        }
      ]
    },
    {
      "cell_type": "markdown",
      "source": [
        "**Q.2. What are the rules to create variables in python?**\n",
        "\n",
        "**Rules for creating variables :**\n",
        "\n",
        "i) Variable names must start with a letter (a-z, A-Z) or an underscore (_). They can't start with numbers (0-9).\n",
        "\n",
        "ii) Variable names are case-sensitive, meaning myVar and myvar are considered different variables.\n",
        "\n",
        "iii) Keywords (if, for, while, etc.) cannot be used as variable names.\n",
        "\n",
        "iv) Variable names can't contain spaces or special characters (except for underscores).\n"
      ],
      "metadata": {
        "id": "aiCCQUxNOxNq"
      }
    },
    {
      "cell_type": "markdown",
      "source": [
        "**Q.3. What are the standards and conventions followed for the nomenclature of variables in python to improve code readability and maintainability?**\n",
        "\n",
        "Some of the standards and conventions followed for variable naming in Python are followings:\n",
        "\n",
        "i) **Using Descriptive Names:** Variable names should be descriptive of their purpose or content, making it clear what the variable represents.\n",
        "\n",
        "ii) **Using lowercase:** Variable names should be in lowercase, with words separated by underscores (e.g., my_var).\n",
        "\n",
        "iii) **Avoiding Single-Character Names:** Avoid using single-letter variable names (e.g., x, i) except in certain cases like loop counters.\n",
        "\n",
        "iv) **Using Constants:** Uppercase variable names with underscores are often used for constants (e.g., MAX_VALUE).\n",
        "\n",
        "v) **Using CamelCase for Classes:** Class names should use CamelCase (e.g., MyClass)."
      ],
      "metadata": {
        "id": "2mu4J2tsQZdg"
      }
    },
    {
      "cell_type": "markdown",
      "source": [
        "**Q.4. What will happen if a keyword is used as a variable name?**\n",
        "\n",
        "If we use keyword as a variable name we will get syntax error as they can't be used as variable names."
      ],
      "metadata": {
        "id": "SvOmqxCSRySt"
      }
    },
    {
      "cell_type": "code",
      "source": [
        "if = 20 # This will result in a syntax error"
      ],
      "metadata": {
        "colab": {
          "base_uri": "https://localhost:8080/",
          "height": 140
        },
        "id": "PQn6m9DcSMmf",
        "outputId": "92e44baf-8980-46f2-f5c6-c195fecd0c30"
      },
      "execution_count": 2,
      "outputs": [
        {
          "output_type": "error",
          "ename": "SyntaxError",
          "evalue": "ignored",
          "traceback": [
            "\u001b[0;36m  File \u001b[0;32m\"<ipython-input-2-b8359eb0a5c6>\"\u001b[0;36m, line \u001b[0;32m1\u001b[0m\n\u001b[0;31m    if = 20\u001b[0m\n\u001b[0m       ^\u001b[0m\n\u001b[0;31mSyntaxError\u001b[0m\u001b[0;31m:\u001b[0m invalid syntax\n"
          ]
        }
      ]
    },
    {
      "cell_type": "markdown",
      "source": [
        "**Q.5. For what purpose def keyword is used?**\n",
        "\n",
        "The def keyword in Python is used to define functions. Functions are blocks of reusable code that perform a specific task or a set of tasks."
      ],
      "metadata": {
        "id": "eJWrfLdBSXKc"
      }
    },
    {
      "cell_type": "code",
      "source": [
        "def greet(name):    #defining the function\n",
        "    return f\"Hello, {name}!\"    #returning some value\n",
        "\n",
        "message = greet(\"Ashif\")  # Call the function and saving the value to message variable\n",
        "print(message)"
      ],
      "metadata": {
        "colab": {
          "base_uri": "https://localhost:8080/"
        },
        "id": "SrheOYb0SnNX",
        "outputId": "a5cc9e7e-9850-4678-9075-c94576673f6c"
      },
      "execution_count": 3,
      "outputs": [
        {
          "output_type": "stream",
          "name": "stdout",
          "text": [
            "Hello, Ashif!\n"
          ]
        }
      ]
    },
    {
      "cell_type": "markdown",
      "source": [
        "**Q.6. What is the operation of this special character ‘ \\ ’?**\n",
        "\n",
        "The special character ' \\ '  is used in Python as an escape character to indicate that the character following it should be treated specially.\n",
        "\n",
        "It is used for various purposes, including:\n",
        "\n",
        "i) **Escape Sequences:** To represent special characters within strings, such as '\\n' for a newline, '\\t' for a tab, etc.\n",
        "\n",
        "ii) **Line Continuation:** To break a long line of code into multiple lines, we can use the backslash at the end of a line to indicate that the statement continues on the next line."
      ],
      "metadata": {
        "id": "KV8tqAzcS4vl"
      }
    },
    {
      "cell_type": "code",
      "source": [
        "string = \"This is the 1st line\\nThis is the next line with \\t tab\"\n",
        "print(string)\n",
        "long_string = \"This is a very long string that I want to \\\n",
        "break into multiple lines for readability.\"\n",
        "print(long_string)\n"
      ],
      "metadata": {
        "colab": {
          "base_uri": "https://localhost:8080/"
        },
        "id": "O9Muww7LToaB",
        "outputId": "b01ccc9f-dc16-414a-aa3f-44ff2a69074b"
      },
      "execution_count": 10,
      "outputs": [
        {
          "output_type": "stream",
          "name": "stdout",
          "text": [
            "This is the 1st line\n",
            "This is the next line with \t tab\n",
            "This is a very long string that I want to break into multiple lines for readability.\n"
          ]
        }
      ]
    },
    {
      "cell_type": "markdown",
      "source": [
        "**Q.7. Give an example of the following conditions:**\n",
        "\n",
        "**(i) Homogeneous list**\n",
        "\n",
        "**(ii) Heterogeneous set**\n",
        "\n",
        "**(iii) Homogeneous tuple**"
      ],
      "metadata": {
        "id": "ReX47qNoUajE"
      }
    },
    {
      "cell_type": "code",
      "source": [
        "homogeneous_list = [1, 2, 3, 4, 5] # List with elements of the same data type\n",
        "print(homogeneous_list)\n",
        "heterogeneous_set = {1, \"apple\", 3.14, \"banana\"} #Set with elements of different data types\n",
        "print(heterogeneous_set)\n",
        "homogeneous_tuple = (\"apple\", \"banana\", \"cherry\") #Tuble with elements of the same data type\n",
        "print(homogeneous_tuple)"
      ],
      "metadata": {
        "colab": {
          "base_uri": "https://localhost:8080/"
        },
        "id": "lcOdF-q4Uyr6",
        "outputId": "798f7899-a021-4468-8f40-643f79e50a56"
      },
      "execution_count": 11,
      "outputs": [
        {
          "output_type": "stream",
          "name": "stdout",
          "text": [
            "[1, 2, 3, 4, 5]\n",
            "{1, 'apple', 3.14, 'banana'}\n",
            "('apple', 'banana', 'cherry')\n"
          ]
        }
      ]
    },
    {
      "cell_type": "markdown",
      "source": [
        "**Q.8. Explain the mutable and immutable data types with proper explanation & examples.**\n",
        "\n",
        "**Immutable Data Types:**\n",
        "\n",
        "Immutable data types are those whose values can't be changed once they are created. If we need to modify an immutable object, a new object is created.\n",
        "\n",
        "Some common immutable data types in Python include:\n",
        "\n",
        "int, float, str, tuple\n",
        "\n",
        "**Mutable Data Types:**\n",
        "\n",
        "Mutable data types are those whose values can be modified in place without creating a new object.\n",
        "\n",
        "Some common mutable data types in Python include:\n",
        "\n",
        "list, dictionary, set"
      ],
      "metadata": {
        "id": "2LUffhcXVjjn"
      }
    },
    {
      "cell_type": "markdown",
      "source": [
        "Q.9. Write a code to create the given structure using only for loop.\n",
        "\n",
        "![Screenshot 2023-10-23 215544.png](data:image/png;base64,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)\n"
      ],
      "metadata": {
        "id": "YzfkouqLWXLb"
      }
    },
    {
      "cell_type": "code",
      "source": [
        "c,s=1,4\n",
        "for x in range(0,5):\n",
        "    print(\" \"*s+\"*\"*c)\n",
        "    print(\"\")\n",
        "    c+=2\n",
        "    s-=1"
      ],
      "metadata": {
        "colab": {
          "base_uri": "https://localhost:8080/"
        },
        "id": "DiVP6I_lW3bO",
        "outputId": "9f6ba6d8-24d9-40d4-84ad-2129a5e99dc1"
      },
      "execution_count": 21,
      "outputs": [
        {
          "output_type": "stream",
          "name": "stdout",
          "text": [
            "    *\n",
            "\n",
            "   ***\n",
            "\n",
            "  *****\n",
            "\n",
            " *******\n",
            "\n",
            "*********\n",
            "\n"
          ]
        }
      ]
    },
    {
      "cell_type": "markdown",
      "source": [
        "**Q.10. Write a code to create the given structure using while loop.**\n",
        "\n",
        "![Screenshot 2023-10-23 221807.png](data:image/png;base64,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)"
      ],
      "metadata": {
        "id": "u1mgx559bv3I"
      }
    },
    {
      "cell_type": "code",
      "source": [
        "c,s=9,1\n",
        "while c>=1:\n",
        "  print(\" \"*s+\"|\"*c)\n",
        "  print(\"\")\n",
        "  c-=2\n",
        "  s+=1"
      ],
      "metadata": {
        "colab": {
          "base_uri": "https://localhost:8080/"
        },
        "id": "UxgPK_zcb_H1",
        "outputId": "567112ed-53e8-46e9-d4cb-b279ac97a9b2"
      },
      "execution_count": 23,
      "outputs": [
        {
          "output_type": "stream",
          "name": "stdout",
          "text": [
            " |||||||||\n",
            "\n",
            "  |||||||\n",
            "\n",
            "   |||||\n",
            "\n",
            "    |||\n",
            "\n",
            "     |\n",
            "\n"
          ]
        }
      ]
    }
  ]
}