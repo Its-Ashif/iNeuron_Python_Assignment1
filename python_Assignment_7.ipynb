{
  "nbformat": 4,
  "nbformat_minor": 0,
  "metadata": {
    "colab": {
      "provenance": []
    },
    "kernelspec": {
      "name": "python3",
      "display_name": "Python 3"
    },
    "language_info": {
      "name": "python"
    }
  },
  "cells": [
    {
      "cell_type": "markdown",
      "source": [
        "# **Python Assignment 21st May 2023**"
      ],
      "metadata": {
        "id": "vQTD_8RyOI0s"
      }
    },
    {
      "cell_type": "markdown",
      "source": [
        "**Q.1. Create two int type variables, apply addition, subtraction, division and multiplications and store the results in variables. Then print the data in the following format by calling the variables:**\n",
        "\n",
        "**First variable is __ & second variable is __.**\n",
        "\n",
        "**Addition: __ + __ = __**\n",
        "\n",
        "**Subtraction: __ - __ = __**\n",
        "\n",
        "**Multiplication: __ * __ = __**\n",
        "\n",
        "**Division: __ / __ = __**"
      ],
      "metadata": {
        "id": "VGbapUu9L_YO"
      }
    },
    {
      "cell_type": "code",
      "execution_count": 1,
      "metadata": {
        "colab": {
          "base_uri": "https://localhost:8080/"
        },
        "id": "Z9BowsRcL6Q-",
        "outputId": "4c339015-3e08-463e-af48-967727ea451c"
      },
      "outputs": [
        {
          "output_type": "stream",
          "name": "stdout",
          "text": [
            "First variable is 10 & second variable is 5\n",
            "Addition: 10 + 5 = 15\n",
            "Subtraction: 10 - 5 = 5\n",
            "Multiplication: 10 * 5 = 50\n",
            "Division: 10 / 5 = 2.0\n"
          ]
        }
      ],
      "source": [
        "first_variable = 10\n",
        "second_variable = 5\n",
        "\n",
        "addition = first_variable + second_variable\n",
        "subtraction = first_variable - second_variable\n",
        "multiplication = first_variable * second_variable\n",
        "division = first_variable / second_variable\n",
        "\n",
        "# Print the results in the specified format\n",
        "print(\"First variable is\", first_variable, \"& second variable is\", second_variable)\n",
        "print(\"Addition:\", first_variable, \"+\", second_variable, \"=\", addition)\n",
        "print(\"Subtraction:\", first_variable, \"-\", second_variable, \"=\", subtraction)\n",
        "print(\"Multiplication:\", first_variable, \"*\", second_variable, \"=\", multiplication)\n",
        "print(\"Division:\", first_variable, \"/\", second_variable, \"=\", division)"
      ]
    },
    {
      "cell_type": "markdown",
      "source": [
        "**Q.2. What is the difference between the following operators:**\n",
        "\n",
        "**(i) ‘ / ’ & ‘ // ’**\n",
        "\n",
        "**(ii) ‘ ** ’ & ‘ ^ ’**\n",
        "\n",
        "**i) / (Division):** It performs standard division, resulting in a floating-point number. If both operands are integers, the result will be a floating-point number with a decimal part.\n",
        "\n",
        "**// (Floor Division):** It performs floor division, which discards the decimal part of the result and always returns an integer. It is also known as integer division.\n",
        "\n",
        "**ii) ** (Exponentiation):** This operator is used for raising a number to a power. For example, 2 ** 3 would evaluate to 8, as it calculates 2 raised to the power of 3.\n",
        "\n",
        "**^ (Bitwise XOR):** It performs bitwise XOR operation on the binary representations of two integers. For example, 5 ^ 3 would evaluate to 6 in binary (101 ^ 011 = 110), which is 6 in decimal."
      ],
      "metadata": {
        "id": "cH3DRaIdMu3o"
      }
    },
    {
      "cell_type": "code",
      "source": [
        "print(7/3)\n",
        "print(7//3)\n",
        "print(2**3)\n",
        "print(5^3)"
      ],
      "metadata": {
        "colab": {
          "base_uri": "https://localhost:8080/"
        },
        "id": "In8TgPlnOh36",
        "outputId": "74ca39d0-519d-49e4-f686-b92d9b771041"
      },
      "execution_count": 2,
      "outputs": [
        {
          "output_type": "stream",
          "name": "stdout",
          "text": [
            "2.3333333333333335\n",
            "2\n",
            "8\n",
            "6\n"
          ]
        }
      ]
    },
    {
      "cell_type": "markdown",
      "source": [
        "**Q.3. List the logical operators.**\n",
        "\n",
        "The logical operators in Python are:\n",
        "\n",
        "**AND:** The and operator returns True if both of its operands are True. If any one of the operands is False, it returns False.\n",
        "\n",
        "**OR:** The or operator returns True if at least one of its operands is True. It returns False only if both operands are False.\n",
        "\n",
        "**NOT:** The not operator is a unary operator that returns the opposite Boolean value of its operand. If the operand is True, not returns False, and if the operand is False, not returns True."
      ],
      "metadata": {
        "id": "LgI--ktPO1Pt"
      }
    },
    {
      "cell_type": "code",
      "source": [
        "print(\"AND\")\n",
        "print(True and True)\n",
        "print(True and False)\n",
        "print(False and True)\n",
        "print(False and False)\n",
        "print(\"\\nOR\")\n",
        "print(True or True)\n",
        "print(True or False)\n",
        "print(False or True)\n",
        "print(False or False)\n",
        "print(\"\\nNOT\")\n",
        "print(not True)\n",
        "print(not False)"
      ],
      "metadata": {
        "colab": {
          "base_uri": "https://localhost:8080/"
        },
        "id": "5tGOAQ3VPehR",
        "outputId": "25d25a3b-ae2d-4f35-a8ee-0824746301d6"
      },
      "execution_count": 3,
      "outputs": [
        {
          "output_type": "stream",
          "name": "stdout",
          "text": [
            "AND\n",
            "True\n",
            "False\n",
            "False\n",
            "False\n",
            "\n",
            "OR\n",
            "True\n",
            "True\n",
            "True\n",
            "False\n",
            "\n",
            "NOT\n",
            "False\n",
            "True\n"
          ]
        }
      ]
    },
    {
      "cell_type": "markdown",
      "source": [
        "**Q.4. Explain right shift operator and left shift operator with examples.**\n",
        "\n",
        "**Right Shift (>>):**\n",
        "\n",
        "The right shift operator shifts the bits of an integer to the right by a specified number of positions. It effectively divides the integer by 2 raised to the power of the number of positions shifted to the right. Bits that are shifted out to the right are lost, and zeros are shifted in from the left.\n",
        "\n",
        "**Left Shift (<<):**\n",
        "\n",
        "The left shift operator shifts the bits of an integer to the left by a specified number of positions. It effectively multiplies the integer by 2 raised to the power of the number of positions shifted to the left. Bits that are shifted out to the left are lost, and zeros are shifted in from the right."
      ],
      "metadata": {
        "id": "jbeTkqksQE-x"
      }
    },
    {
      "cell_type": "code",
      "source": [
        "num = 12  # Binary representation: 1100\n",
        "print(num >> 2)  # Right shifting by 2 positions\n",
        "# Result: 3, Binary representation: 0011\n",
        "\n",
        "num = 3  # Binary representation: 0011\n",
        "print(num << 2)  # Left shifting by 2 positions\n",
        "# Result: 12, Binary representation: 1100"
      ],
      "metadata": {
        "colab": {
          "base_uri": "https://localhost:8080/"
        },
        "id": "CZYx72faQxgB",
        "outputId": "0c484d9a-e51c-48a5-9284-a3ef7b3eb35a"
      },
      "execution_count": 4,
      "outputs": [
        {
          "output_type": "stream",
          "name": "stdout",
          "text": [
            "3\n",
            "12\n"
          ]
        }
      ]
    },
    {
      "cell_type": "markdown",
      "source": [
        "**Q.5. Create a list containing int type data of length 15. Then write a code to check if 10 is present in the list or not.**"
      ],
      "metadata": {
        "id": "fHgyl4c8RAa7"
      }
    },
    {
      "cell_type": "code",
      "source": [
        "my_list = [5, 8, 10, 15, 20, 25, 30, 35, 40, 45, 50, 55, 60, 65, 70]\n",
        "if 10 in my_list:\n",
        "    print(\"10 is present in the list\")\n",
        "else:\n",
        "    print(\"10 is not present in the list\")"
      ],
      "metadata": {
        "colab": {
          "base_uri": "https://localhost:8080/"
        },
        "id": "nhoAZ4mZRPV1",
        "outputId": "941515d3-fb3b-4ef5-8812-6cc6c57e009f"
      },
      "execution_count": 6,
      "outputs": [
        {
          "output_type": "stream",
          "name": "stdout",
          "text": [
            "10 is present in the list\n"
          ]
        }
      ]
    }
  ]
}